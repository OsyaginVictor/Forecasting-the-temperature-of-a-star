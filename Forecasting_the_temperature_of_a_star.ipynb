{
  "cells": [
    {
      "cell_type": "markdown",
      "metadata": {
        "id": "view-in-github",
        "colab_type": "text"
      },
      "source": [
        "<a href=\"https://colab.research.google.com/github/OsyaginVictor/Forecasting-the-temperature-of-a-star/blob/main/Forecasting_the_temperature_of_a_star.ipynb\" target=\"_parent\"><img src=\"https://colab.research.google.com/assets/colab-badge.svg\" alt=\"Open In Colab\"/></a>"
      ]
    },
    {
      "cell_type": "markdown",
      "id": "50569c1c",
      "metadata": {
        "id": "50569c1c"
      },
      "source": [
        "## Постановка задачи"
      ]
    },
    {
      "cell_type": "markdown",
      "id": "8466cd8c",
      "metadata": {
        "id": "8466cd8c"
      },
      "source": [
        "Нужно придумать, как с помощью нейросети определять температуру на поверхности обнаруженных звёзд. Обычно для расчёта температуры учёные пользуются следующими методами:\n",
        "\n",
        "Закон смещения Вина.\n",
        "\n",
        "Закон Стефана-Больцмана.\n",
        "\n",
        "Спектральный анализ.\n",
        "\n",
        "Каждый из них имеет плюсы и минусы. Обсерватория хочет внедрить технологии машинного обучения для предсказания температуры звёзд, надеясь, что этот метод будет наиболее точным и удобным.\n",
        "В базе обсерватории есть характеристики уже изученных 240 звёзд."
      ]
    },
    {
      "cell_type": "markdown",
      "id": "e7dab072",
      "metadata": {
        "id": "e7dab072"
      },
      "source": [
        "## Характеристики\n"
      ]
    },
    {
      "cell_type": "markdown",
      "id": "9abc7aa7",
      "metadata": {
        "id": "9abc7aa7"
      },
      "source": [
        "Относительная светимость L/Lo — светимость звезды относительно Солнца.\n",
        "\n",
        "Относительный радиус R/Ro — радиус звезды относительно радиуса Солнца.\n",
        "\n",
        "Абсолютная звёздная величина Mv — физическая величина, характеризующая блеск звезды.\n",
        "\n",
        "Звёздный цвет (white, red, blue, yellow, yellow-orange и др.) — цвет звезды, который определяют на основе спектрального анализа.\n",
        "\n",
        "Тип звезды.\n",
        "\n",
        "Абсолютная температура T(K) — температура на поверхности звезды в Кельвинах."
      ]
    },
    {
      "cell_type": "markdown",
      "id": "b4406e88",
      "metadata": {
        "id": "b4406e88"
      },
      "source": [
        "## Загрузка данных"
      ]
    },
    {
      "cell_type": "markdown",
      "id": "1bd58502",
      "metadata": {
        "id": "1bd58502"
      },
      "source": [
        "Загрузим библиотеки, которые помогут нам решить задачу"
      ]
    },
    {
      "cell_type": "code",
      "execution_count": null,
      "id": "e3e9062a",
      "metadata": {
        "id": "e3e9062a",
        "outputId": "712a2577-d14c-4a76-b875-c27b03e3c5b9"
      },
      "outputs": [
        {
          "name": "stdout",
          "output_type": "stream",
          "text": [
            "Note: you may need to restart the kernel to use updated packages.\n"
          ]
        }
      ],
      "source": [
        "%pip install -q phik\n",
        "\n",
        "\n",
        "from math import ceil\n",
        "import matplotlib.pyplot as plt\n",
        "import numpy as np\n",
        "import pandas as pd\n",
        "import torch\n",
        "import torch.nn as nn\n",
        "\n",
        "import phik\n",
        "from phik import report\n",
        "from phik.report import plot_correlation_matrix\n",
        "\n",
        "from sklearn.compose import ColumnTransformer\n",
        "from sklearn.model_selection import train_test_split\n",
        "from sklearn.preprocessing import StandardScaler, OrdinalEncoder"
      ]
    },
    {
      "cell_type": "markdown",
      "id": "8e752b01",
      "metadata": {
        "id": "8e752b01"
      },
      "source": [
        "Сохраним данные в переменную df. Посмотрим и изучим данные."
      ]
    },
    {
      "cell_type": "code",
      "execution_count": null,
      "id": "a36b63fe",
      "metadata": {
        "id": "a36b63fe"
      },
      "outputs": [],
      "source": [
        "pd.set_option('display.max_columns', None) # настроим в выоде показ всех колонок"
      ]
    },
    {
      "cell_type": "code",
      "execution_count": null,
      "id": "a11fe9d6",
      "metadata": {
        "id": "a11fe9d6"
      },
      "outputs": [],
      "source": [
        "df = pd.read_csv('/datasets/6_class.csv',  index_col=0) # читаем наши данные."
      ]
    },
    {
      "cell_type": "code",
      "execution_count": null,
      "id": "961722ad",
      "metadata": {
        "id": "961722ad",
        "outputId": "98f110f7-48fb-4685-c1a3-03722a772862"
      },
      "outputs": [
        {
          "data": {
            "text/html": [
              "<div>\n",
              "<style scoped>\n",
              "    .dataframe tbody tr th:only-of-type {\n",
              "        vertical-align: middle;\n",
              "    }\n",
              "\n",
              "    .dataframe tbody tr th {\n",
              "        vertical-align: top;\n",
              "    }\n",
              "\n",
              "    .dataframe thead th {\n",
              "        text-align: right;\n",
              "    }\n",
              "</style>\n",
              "<table border=\"1\" class=\"dataframe\">\n",
              "  <thead>\n",
              "    <tr style=\"text-align: right;\">\n",
              "      <th></th>\n",
              "      <th>Temperature (K)</th>\n",
              "      <th>Luminosity(L/Lo)</th>\n",
              "      <th>Radius(R/Ro)</th>\n",
              "      <th>Absolute magnitude(Mv)</th>\n",
              "      <th>Star type</th>\n",
              "      <th>Star color</th>\n",
              "    </tr>\n",
              "  </thead>\n",
              "  <tbody>\n",
              "    <tr>\n",
              "      <th>0</th>\n",
              "      <td>3068</td>\n",
              "      <td>0.002400</td>\n",
              "      <td>0.1700</td>\n",
              "      <td>16.120</td>\n",
              "      <td>0</td>\n",
              "      <td>Red</td>\n",
              "    </tr>\n",
              "    <tr>\n",
              "      <th>1</th>\n",
              "      <td>3042</td>\n",
              "      <td>0.000500</td>\n",
              "      <td>0.1542</td>\n",
              "      <td>16.600</td>\n",
              "      <td>0</td>\n",
              "      <td>Red</td>\n",
              "    </tr>\n",
              "    <tr>\n",
              "      <th>2</th>\n",
              "      <td>2600</td>\n",
              "      <td>0.000300</td>\n",
              "      <td>0.1020</td>\n",
              "      <td>18.700</td>\n",
              "      <td>0</td>\n",
              "      <td>Red</td>\n",
              "    </tr>\n",
              "    <tr>\n",
              "      <th>3</th>\n",
              "      <td>2800</td>\n",
              "      <td>0.000200</td>\n",
              "      <td>0.1600</td>\n",
              "      <td>16.650</td>\n",
              "      <td>0</td>\n",
              "      <td>Red</td>\n",
              "    </tr>\n",
              "    <tr>\n",
              "      <th>4</th>\n",
              "      <td>1939</td>\n",
              "      <td>0.000138</td>\n",
              "      <td>0.1030</td>\n",
              "      <td>20.060</td>\n",
              "      <td>0</td>\n",
              "      <td>Red</td>\n",
              "    </tr>\n",
              "    <tr>\n",
              "      <th>5</th>\n",
              "      <td>2840</td>\n",
              "      <td>0.000650</td>\n",
              "      <td>0.1100</td>\n",
              "      <td>16.980</td>\n",
              "      <td>0</td>\n",
              "      <td>Red</td>\n",
              "    </tr>\n",
              "    <tr>\n",
              "      <th>6</th>\n",
              "      <td>2637</td>\n",
              "      <td>0.000730</td>\n",
              "      <td>0.1270</td>\n",
              "      <td>17.220</td>\n",
              "      <td>0</td>\n",
              "      <td>Red</td>\n",
              "    </tr>\n",
              "    <tr>\n",
              "      <th>7</th>\n",
              "      <td>2600</td>\n",
              "      <td>0.000400</td>\n",
              "      <td>0.0960</td>\n",
              "      <td>17.400</td>\n",
              "      <td>0</td>\n",
              "      <td>Red</td>\n",
              "    </tr>\n",
              "    <tr>\n",
              "      <th>8</th>\n",
              "      <td>2650</td>\n",
              "      <td>0.000690</td>\n",
              "      <td>0.1100</td>\n",
              "      <td>17.450</td>\n",
              "      <td>0</td>\n",
              "      <td>Red</td>\n",
              "    </tr>\n",
              "    <tr>\n",
              "      <th>9</th>\n",
              "      <td>2700</td>\n",
              "      <td>0.000180</td>\n",
              "      <td>0.1300</td>\n",
              "      <td>16.050</td>\n",
              "      <td>0</td>\n",
              "      <td>Red</td>\n",
              "    </tr>\n",
              "    <tr>\n",
              "      <th>10</th>\n",
              "      <td>3600</td>\n",
              "      <td>0.002900</td>\n",
              "      <td>0.5100</td>\n",
              "      <td>10.690</td>\n",
              "      <td>1</td>\n",
              "      <td>Red</td>\n",
              "    </tr>\n",
              "    <tr>\n",
              "      <th>11</th>\n",
              "      <td>3129</td>\n",
              "      <td>0.012200</td>\n",
              "      <td>0.3761</td>\n",
              "      <td>11.790</td>\n",
              "      <td>1</td>\n",
              "      <td>Red</td>\n",
              "    </tr>\n",
              "    <tr>\n",
              "      <th>12</th>\n",
              "      <td>3134</td>\n",
              "      <td>0.000400</td>\n",
              "      <td>0.1960</td>\n",
              "      <td>13.210</td>\n",
              "      <td>1</td>\n",
              "      <td>Red</td>\n",
              "    </tr>\n",
              "    <tr>\n",
              "      <th>13</th>\n",
              "      <td>3628</td>\n",
              "      <td>0.005500</td>\n",
              "      <td>0.3930</td>\n",
              "      <td>10.480</td>\n",
              "      <td>1</td>\n",
              "      <td>Red</td>\n",
              "    </tr>\n",
              "    <tr>\n",
              "      <th>14</th>\n",
              "      <td>2650</td>\n",
              "      <td>0.000600</td>\n",
              "      <td>0.1400</td>\n",
              "      <td>11.782</td>\n",
              "      <td>1</td>\n",
              "      <td>Red</td>\n",
              "    </tr>\n",
              "    <tr>\n",
              "      <th>15</th>\n",
              "      <td>3340</td>\n",
              "      <td>0.003800</td>\n",
              "      <td>0.2400</td>\n",
              "      <td>13.070</td>\n",
              "      <td>1</td>\n",
              "      <td>Red</td>\n",
              "    </tr>\n",
              "    <tr>\n",
              "      <th>16</th>\n",
              "      <td>2799</td>\n",
              "      <td>0.001800</td>\n",
              "      <td>0.1600</td>\n",
              "      <td>14.790</td>\n",
              "      <td>1</td>\n",
              "      <td>Red</td>\n",
              "    </tr>\n",
              "    <tr>\n",
              "      <th>17</th>\n",
              "      <td>3692</td>\n",
              "      <td>0.003670</td>\n",
              "      <td>0.4700</td>\n",
              "      <td>10.800</td>\n",
              "      <td>1</td>\n",
              "      <td>Red</td>\n",
              "    </tr>\n",
              "    <tr>\n",
              "      <th>18</th>\n",
              "      <td>3192</td>\n",
              "      <td>0.003620</td>\n",
              "      <td>0.1967</td>\n",
              "      <td>13.530</td>\n",
              "      <td>1</td>\n",
              "      <td>Red</td>\n",
              "    </tr>\n",
              "    <tr>\n",
              "      <th>19</th>\n",
              "      <td>3441</td>\n",
              "      <td>0.039000</td>\n",
              "      <td>0.3510</td>\n",
              "      <td>11.180</td>\n",
              "      <td>1</td>\n",
              "      <td>Red</td>\n",
              "    </tr>\n",
              "  </tbody>\n",
              "</table>\n",
              "</div>"
            ],
            "text/plain": [
              "    Temperature (K)  Luminosity(L/Lo)  Radius(R/Ro)  Absolute magnitude(Mv)  \\\n",
              "0              3068          0.002400        0.1700                  16.120   \n",
              "1              3042          0.000500        0.1542                  16.600   \n",
              "2              2600          0.000300        0.1020                  18.700   \n",
              "3              2800          0.000200        0.1600                  16.650   \n",
              "4              1939          0.000138        0.1030                  20.060   \n",
              "5              2840          0.000650        0.1100                  16.980   \n",
              "6              2637          0.000730        0.1270                  17.220   \n",
              "7              2600          0.000400        0.0960                  17.400   \n",
              "8              2650          0.000690        0.1100                  17.450   \n",
              "9              2700          0.000180        0.1300                  16.050   \n",
              "10             3600          0.002900        0.5100                  10.690   \n",
              "11             3129          0.012200        0.3761                  11.790   \n",
              "12             3134          0.000400        0.1960                  13.210   \n",
              "13             3628          0.005500        0.3930                  10.480   \n",
              "14             2650          0.000600        0.1400                  11.782   \n",
              "15             3340          0.003800        0.2400                  13.070   \n",
              "16             2799          0.001800        0.1600                  14.790   \n",
              "17             3692          0.003670        0.4700                  10.800   \n",
              "18             3192          0.003620        0.1967                  13.530   \n",
              "19             3441          0.039000        0.3510                  11.180   \n",
              "\n",
              "    Star type Star color  \n",
              "0           0        Red  \n",
              "1           0        Red  \n",
              "2           0        Red  \n",
              "3           0        Red  \n",
              "4           0        Red  \n",
              "5           0        Red  \n",
              "6           0        Red  \n",
              "7           0        Red  \n",
              "8           0        Red  \n",
              "9           0        Red  \n",
              "10          1        Red  \n",
              "11          1        Red  \n",
              "12          1        Red  \n",
              "13          1        Red  \n",
              "14          1        Red  \n",
              "15          1        Red  \n",
              "16          1        Red  \n",
              "17          1        Red  \n",
              "18          1        Red  \n",
              "19          1        Red  "
            ]
          },
          "execution_count": 4,
          "metadata": {},
          "output_type": "execute_result"
        }
      ],
      "source": [
        "df.head(20)"
      ]
    },
    {
      "cell_type": "markdown",
      "id": "9ea43ced",
      "metadata": {
        "id": "9ea43ced"
      },
      "source": [
        "На первый взгляд данные хорошие, без пропусков. Посмотрим на них глубже."
      ]
    },
    {
      "cell_type": "code",
      "execution_count": null,
      "id": "af0db504",
      "metadata": {
        "id": "af0db504",
        "outputId": "755d18d5-f03c-44a8-e8b2-961859e1d47c"
      },
      "outputs": [
        {
          "name": "stdout",
          "output_type": "stream",
          "text": [
            "<class 'pandas.core.frame.DataFrame'>\n",
            "Int64Index: 240 entries, 0 to 239\n",
            "Data columns (total 6 columns):\n",
            " #   Column                  Non-Null Count  Dtype  \n",
            "---  ------                  --------------  -----  \n",
            " 0   Temperature (K)         240 non-null    int64  \n",
            " 1   Luminosity(L/Lo)        240 non-null    float64\n",
            " 2   Radius(R/Ro)            240 non-null    float64\n",
            " 3   Absolute magnitude(Mv)  240 non-null    float64\n",
            " 4   Star type               240 non-null    int64  \n",
            " 5   Star color              240 non-null    object \n",
            "dtypes: float64(3), int64(2), object(1)\n",
            "memory usage: 13.1+ KB\n"
          ]
        }
      ],
      "source": [
        "df.info()"
      ]
    },
    {
      "cell_type": "code",
      "execution_count": null,
      "id": "6ba32344",
      "metadata": {
        "id": "6ba32344",
        "outputId": "f0d81602-fa31-467d-9d61-d3fafd91a389"
      },
      "outputs": [
        {
          "data": {
            "text/plain": [
              "0"
            ]
          },
          "execution_count": 6,
          "metadata": {},
          "output_type": "execute_result"
        }
      ],
      "source": [
        "df.duplicated().sum()"
      ]
    },
    {
      "cell_type": "markdown",
      "id": "a920de4a",
      "metadata": {
        "id": "a920de4a"
      },
      "source": [
        "Как мы видим,битых данных и дубликатов нет. На данном этапе в данных ничего менять не будем."
      ]
    },
    {
      "cell_type": "markdown",
      "id": "fcfc9191",
      "metadata": {
        "id": "fcfc9191"
      },
      "source": [
        "## Предобработка и анализ данных"
      ]
    },
    {
      "cell_type": "markdown",
      "id": "0d010f17",
      "metadata": {
        "id": "0d010f17"
      },
      "source": [
        "В названиях столбцов есть пробелы и разный регистр, приведем все к общему виду."
      ]
    },
    {
      "cell_type": "code",
      "execution_count": null,
      "id": "a6224b21",
      "metadata": {
        "id": "a6224b21"
      },
      "outputs": [],
      "source": [
        "df = df.rename(columns={'Temperature (K)':'temperature',\n",
        "                     'Luminosity(L/Lo)':'luminosity', 'Radius(R/Ro)':'radius',\n",
        "                     'Absolute magnitude(Mv)':'abs_magnitude', 'Star type':'star_type', 'Star color':'star_color'})"
      ]
    },
    {
      "cell_type": "code",
      "execution_count": null,
      "id": "941b10ca",
      "metadata": {
        "id": "941b10ca",
        "outputId": "2c92b92d-f2cf-44a8-fc0e-50a071533997"
      },
      "outputs": [
        {
          "data": {
            "text/html": [
              "<div>\n",
              "<style scoped>\n",
              "    .dataframe tbody tr th:only-of-type {\n",
              "        vertical-align: middle;\n",
              "    }\n",
              "\n",
              "    .dataframe tbody tr th {\n",
              "        vertical-align: top;\n",
              "    }\n",
              "\n",
              "    .dataframe thead th {\n",
              "        text-align: right;\n",
              "    }\n",
              "</style>\n",
              "<table border=\"1\" class=\"dataframe\">\n",
              "  <thead>\n",
              "    <tr style=\"text-align: right;\">\n",
              "      <th></th>\n",
              "      <th>temperature</th>\n",
              "      <th>luminosity</th>\n",
              "      <th>radius</th>\n",
              "      <th>abs_magnitude</th>\n",
              "      <th>star_type</th>\n",
              "      <th>star_color</th>\n",
              "    </tr>\n",
              "  </thead>\n",
              "  <tbody>\n",
              "    <tr>\n",
              "      <th>0</th>\n",
              "      <td>3068</td>\n",
              "      <td>0.002400</td>\n",
              "      <td>0.1700</td>\n",
              "      <td>16.12</td>\n",
              "      <td>0</td>\n",
              "      <td>Red</td>\n",
              "    </tr>\n",
              "    <tr>\n",
              "      <th>1</th>\n",
              "      <td>3042</td>\n",
              "      <td>0.000500</td>\n",
              "      <td>0.1542</td>\n",
              "      <td>16.60</td>\n",
              "      <td>0</td>\n",
              "      <td>Red</td>\n",
              "    </tr>\n",
              "    <tr>\n",
              "      <th>2</th>\n",
              "      <td>2600</td>\n",
              "      <td>0.000300</td>\n",
              "      <td>0.1020</td>\n",
              "      <td>18.70</td>\n",
              "      <td>0</td>\n",
              "      <td>Red</td>\n",
              "    </tr>\n",
              "    <tr>\n",
              "      <th>3</th>\n",
              "      <td>2800</td>\n",
              "      <td>0.000200</td>\n",
              "      <td>0.1600</td>\n",
              "      <td>16.65</td>\n",
              "      <td>0</td>\n",
              "      <td>Red</td>\n",
              "    </tr>\n",
              "    <tr>\n",
              "      <th>4</th>\n",
              "      <td>1939</td>\n",
              "      <td>0.000138</td>\n",
              "      <td>0.1030</td>\n",
              "      <td>20.06</td>\n",
              "      <td>0</td>\n",
              "      <td>Red</td>\n",
              "    </tr>\n",
              "  </tbody>\n",
              "</table>\n",
              "</div>"
            ],
            "text/plain": [
              "   temperature  luminosity  radius  abs_magnitude  star_type star_color\n",
              "0         3068    0.002400  0.1700          16.12          0        Red\n",
              "1         3042    0.000500  0.1542          16.60          0        Red\n",
              "2         2600    0.000300  0.1020          18.70          0        Red\n",
              "3         2800    0.000200  0.1600          16.65          0        Red\n",
              "4         1939    0.000138  0.1030          20.06          0        Red"
            ]
          },
          "execution_count": 8,
          "metadata": {},
          "output_type": "execute_result"
        }
      ],
      "source": [
        "df.head()"
      ]
    },
    {
      "cell_type": "markdown",
      "id": "1d5c4932",
      "metadata": {
        "id": "1d5c4932"
      },
      "source": [
        "Названия изменены, теперь удобнее будет работать с данными. Теперь более детально изучим столбец star_color, посмотрим на уникальные данные"
      ]
    },
    {
      "cell_type": "code",
      "execution_count": null,
      "id": "aab6e23b",
      "metadata": {
        "id": "aab6e23b",
        "outputId": "49323610-5d8e-4017-b2c1-f5395ce3fc96"
      },
      "outputs": [
        {
          "name": "stdout",
          "output_type": "stream",
          "text": [
            "19\n",
            "['Blue', 'Blue ', 'Blue White', 'Blue white', 'Blue white ', 'Blue-White', 'Blue-white', 'Orange', 'Orange-Red', 'Pale yellow orange', 'Red', 'White', 'White-Yellow', 'Whitish', 'Yellowish', 'Yellowish White', 'white', 'yellow-white', 'yellowish']\n"
          ]
        }
      ],
      "source": [
        "print(len(df['star_color'].unique()))\n",
        "print(sorted(df['star_color'].unique()))"
      ]
    },
    {
      "cell_type": "markdown",
      "id": "cd739bff",
      "metadata": {
        "id": "cd739bff"
      },
      "source": [
        "Тут можно понять, что в названиях есть ошибки(разный регистр, пробелы и т.д).Исправим это"
      ]
    },
    {
      "cell_type": "code",
      "execution_count": null,
      "id": "a7bc9371",
      "metadata": {
        "id": "a7bc9371",
        "outputId": "2b7cc4ea-e2ee-49ca-8f24-8ad0904de3d9"
      },
      "outputs": [
        {
          "name": "stdout",
          "output_type": "stream",
          "text": [
            "13\n",
            "['blue', 'blue white', 'blue-white', 'orange', 'orange-red', 'pale yellow orange', 'red', 'white', 'white-yellow', 'whitish', 'yellow-white', 'yellowish', 'yellowish white']\n"
          ]
        }
      ],
      "source": [
        "df['star_color'] = df['star_color'].str.strip().str.lower()\n",
        "print(len(df['star_color'].unique()))\n",
        "print(sorted(df['star_color'].unique()))"
      ]
    },
    {
      "cell_type": "markdown",
      "id": "1ae46766",
      "metadata": {
        "id": "1ae46766"
      },
      "source": [
        "Кол-во сократилось, но это еще не все. Можно заметить что есть такие названия, как:\n",
        "    'white-yellow' - 'yellow-white'\n",
        "    'blue white' - 'blue-white'"
      ]
    },
    {
      "cell_type": "code",
      "execution_count": null,
      "id": "a6d714a7",
      "metadata": {
        "id": "a6d714a7"
      },
      "outputs": [],
      "source": [
        "df = df.replace({'star_color' : { 'blue white' : 'blue-white', 'yellow-white' : 'white-yellow'}})"
      ]
    },
    {
      "cell_type": "code",
      "execution_count": null,
      "id": "8d4b6112",
      "metadata": {
        "id": "8d4b6112",
        "outputId": "f13048da-2d1f-4935-c581-e276b068b725"
      },
      "outputs": [
        {
          "name": "stdout",
          "output_type": "stream",
          "text": [
            "11\n",
            "['blue', 'blue-white', 'orange', 'orange-red', 'pale yellow orange', 'red', 'white', 'white-yellow', 'whitish', 'yellowish', 'yellowish white']\n"
          ]
        }
      ],
      "source": [
        "print(len(df['star_color'].unique()))\n",
        "print(sorted(df['star_color'].unique()))"
      ]
    },
    {
      "cell_type": "markdown",
      "id": "af382f00",
      "metadata": {
        "id": "af382f00"
      },
      "source": [
        "Убрали из столбца неявные дубликаты. Теперь взглянем какое кол-во у нас звезд."
      ]
    },
    {
      "cell_type": "code",
      "execution_count": null,
      "id": "5a570c0b",
      "metadata": {
        "id": "5a570c0b",
        "outputId": "46287dcb-bc4e-44ed-81c7-198685d386a2"
      },
      "outputs": [
        {
          "data": {
            "text/plain": [
              "red                   112\n",
              "blue                   56\n",
              "blue-white             41\n",
              "white                  10\n",
              "white-yellow            9\n",
              "yellowish white         3\n",
              "yellowish               3\n",
              "orange                  2\n",
              "whitish                 2\n",
              "orange-red              1\n",
              "pale yellow orange      1\n",
              "Name: star_color, dtype: int64"
            ]
          },
          "execution_count": 13,
          "metadata": {},
          "output_type": "execute_result"
        }
      ],
      "source": [
        "df['star_color'].value_counts()"
      ]
    },
    {
      "cell_type": "markdown",
      "id": "6d9fb644",
      "metadata": {
        "id": "6d9fb644"
      },
      "source": [
        "Чтобы не удалять столбцы с маленьким кол-вом звезд и модель лучше обучалась, решил что будет лучше переименовать цвета звезд, где меньше 3-х на \"other\" т.к. данных и так не много."
      ]
    },
    {
      "cell_type": "code",
      "execution_count": null,
      "id": "c2f4eb7b",
      "metadata": {
        "id": "c2f4eb7b"
      },
      "outputs": [],
      "source": [
        "def modify_star_color(df):\n",
        "    color_list = ['red', 'blue', 'blue-white', 'white', 'white-yellow']\n",
        "    df['star_color'] = df['star_color'].map(lambda x: 'other' if x not in color_list else x)\n",
        "    return df"
      ]
    },
    {
      "cell_type": "code",
      "execution_count": null,
      "id": "da8834e6",
      "metadata": {
        "id": "da8834e6"
      },
      "outputs": [],
      "source": [
        "df = modify_star_color(df)"
      ]
    },
    {
      "cell_type": "code",
      "execution_count": null,
      "id": "3499caf6",
      "metadata": {
        "id": "3499caf6",
        "outputId": "8be3529e-4d5d-4827-bcb9-c42910dd10f3"
      },
      "outputs": [
        {
          "data": {
            "text/plain": [
              "red             112\n",
              "blue             56\n",
              "blue-white       41\n",
              "other            12\n",
              "white            10\n",
              "white-yellow      9\n",
              "Name: star_color, dtype: int64"
            ]
          },
          "execution_count": 16,
          "metadata": {},
          "output_type": "execute_result"
        }
      ],
      "source": [
        "df['star_color'].value_counts()"
      ]
    },
    {
      "cell_type": "markdown",
      "id": "d7498afb",
      "metadata": {
        "id": "d7498afb"
      },
      "source": [
        "## Анализ данных"
      ]
    },
    {
      "cell_type": "markdown",
      "id": "6461ab36",
      "metadata": {
        "id": "6461ab36"
      },
      "source": [
        "Проанализируем столбцы 'star_type','temperature','luminosity','radius','abs_magnitude'. Выведем гистограмму частот"
      ]
    },
    {
      "cell_type": "code",
      "execution_count": null,
      "id": "4b02680d",
      "metadata": {
        "id": "4b02680d",
        "outputId": "41db8c0a-f727-4aac-9452-884ae6fad3e8"
      },
      "outputs": [
        {
          "data": {
            "image/png": "[encoded data removed]",
            "text/plain": [
              "<Figure size 432x288 with 1 Axes>"
            ]
          },
          "metadata": {
            "needs_background": "light"
          },
          "output_type": "display_data"
        }
      ],
      "source": [
        "df['star_type'].plot(kind = 'hist', ylim = (0, 50))\n",
        "plt.xlabel('Типы звезд');\n",
        "plt.ylabel('частота')\n",
        "plt.title('Гистограмма частот типов звезд')\n",
        "plt.show();"
      ]
    },
    {
      "cell_type": "markdown",
      "id": "e2117313",
      "metadata": {
        "id": "e2117313"
      },
      "source": [
        "На этой гистограмме, можно понять, что каждый тип звезд встречается одинаково."
      ]
    },
    {
      "cell_type": "code",
      "execution_count": null,
      "id": "6e789d5c",
      "metadata": {
        "id": "6e789d5c",
        "outputId": "00b030be-d9a2-44d3-814a-64d6592ccf98"
      },
      "outputs": [
        {
          "data": {
            "image/png": "[encoded data removed]",
            "text/plain": [
              "<Figure size 432x288 with 1 Axes>"
            ]
          },
          "metadata": {
            "needs_background": "light"
          },
          "output_type": "display_data"
        }
      ],
      "source": [
        "#гистограмма частот столбца 'temperature'\n",
        "plt.hist(df['temperature'], bins=10, edgecolor='black')\n",
        "\n",
        "plt.title('Гистограмма частот температуры')\n",
        "plt.xlabel('Температура')\n",
        "plt.ylabel('Частота')\n",
        "plt.show()"
      ]
    },
    {
      "cell_type": "code",
      "execution_count": null,
      "id": "66a0e389",
      "metadata": {
        "id": "66a0e389",
        "outputId": "71558e67-7ac5-4a4c-c882-0d0f8ce3307c"
      },
      "outputs": [
        {
          "data": {
            "image/png": "[encoded data removed]",
            "text/plain": [
              "<Figure size 432x288 with 1 Axes>"
            ]
          },
          "metadata": {
            "needs_background": "light"
          },
          "output_type": "display_data"
        }
      ],
      "source": [
        "#гистограмма частот столбца 'luminosity'\n",
        "plt.hist(df['luminosity'], bins=10, edgecolor='black')\n",
        "\n",
        "plt.title('Гистограмма частот oтносительной светимости')\n",
        "plt.xlabel('Светимость')\n",
        "plt.ylabel('Частота')\n",
        "plt.show()"
      ]
    },
    {
      "cell_type": "code",
      "execution_count": null,
      "id": "d49afb62",
      "metadata": {
        "id": "d49afb62",
        "outputId": "316bb670-9d56-49fd-d266-d610ca36157f"
      },
      "outputs": [
        {
          "data": {
            "image/png": "[encoded data removed]",
            "text/plain": [
              "<Figure size 432x288 with 1 Axes>"
            ]
          },
          "metadata": {
            "needs_background": "light"
          },
          "output_type": "display_data"
        }
      ],
      "source": [
        "#гистограмма частот столбца 'radius'\n",
        "plt.hist(df['radius'], bins=15, edgecolor='black')\n",
        "\n",
        "plt.title('Гистограмма частот относительного радиуса')\n",
        "plt.xlabel('Радиус')\n",
        "plt.ylabel('Частота')\n",
        "plt.show()"
      ]
    },
    {
      "cell_type": "code",
      "execution_count": null,
      "id": "642785d2",
      "metadata": {
        "id": "642785d2",
        "outputId": "75e413ae-c42a-49e5-e775-af913f3f90c7"
      },
      "outputs": [
        {
          "data": {
            "image/png": "[encoded data removed]",
            "text/plain": [
              "<Figure size 432x288 with 1 Axes>"
            ]
          },
          "metadata": {
            "needs_background": "light"
          },
          "output_type": "display_data"
        }
      ],
      "source": [
        "#гистограмма частот столбца 'abs_magnitude'\n",
        "plt.hist(df['abs_magnitude'], bins=15, edgecolor='black')\n",
        "\n",
        "plt.title('Гистограмма частот абсолютной звёздной величины')\n",
        "plt.xlabel('Величина')\n",
        "plt.ylabel('Частота')\n",
        "plt.show()"
      ]
    },
    {
      "cell_type": "code",
      "execution_count": null,
      "id": "bd64d892",
      "metadata": {
        "id": "bd64d892",
        "outputId": "b952f959-8d0e-495e-a4ab-5adfb360dee4"
      },
      "outputs": [
        {
          "data": {
            "text/html": [
              "<div>\n",
              "<style scoped>\n",
              "    .dataframe tbody tr th:only-of-type {\n",
              "        vertical-align: middle;\n",
              "    }\n",
              "\n",
              "    .dataframe tbody tr th {\n",
              "        vertical-align: top;\n",
              "    }\n",
              "\n",
              "    .dataframe thead th {\n",
              "        text-align: right;\n",
              "    }\n",
              "</style>\n",
              "<table border=\"1\" class=\"dataframe\">\n",
              "  <thead>\n",
              "    <tr style=\"text-align: right;\">\n",
              "      <th></th>\n",
              "      <th>temperature</th>\n",
              "      <th>luminosity</th>\n",
              "      <th>radius</th>\n",
              "      <th>abs_magnitude</th>\n",
              "      <th>star_type</th>\n",
              "    </tr>\n",
              "  </thead>\n",
              "  <tbody>\n",
              "    <tr>\n",
              "      <th>count</th>\n",
              "      <td>240.000000</td>\n",
              "      <td>240.000000</td>\n",
              "      <td>240.000000</td>\n",
              "      <td>240.000000</td>\n",
              "      <td>240.000000</td>\n",
              "    </tr>\n",
              "    <tr>\n",
              "      <th>mean</th>\n",
              "      <td>10497.462500</td>\n",
              "      <td>107188.361635</td>\n",
              "      <td>237.157781</td>\n",
              "      <td>4.382396</td>\n",
              "      <td>2.500000</td>\n",
              "    </tr>\n",
              "    <tr>\n",
              "      <th>std</th>\n",
              "      <td>9552.425037</td>\n",
              "      <td>179432.244940</td>\n",
              "      <td>517.155763</td>\n",
              "      <td>10.532512</td>\n",
              "      <td>1.711394</td>\n",
              "    </tr>\n",
              "    <tr>\n",
              "      <th>min</th>\n",
              "      <td>1939.000000</td>\n",
              "      <td>0.000080</td>\n",
              "      <td>0.008400</td>\n",
              "      <td>-11.920000</td>\n",
              "      <td>0.000000</td>\n",
              "    </tr>\n",
              "    <tr>\n",
              "      <th>25%</th>\n",
              "      <td>3344.250000</td>\n",
              "      <td>0.000865</td>\n",
              "      <td>0.102750</td>\n",
              "      <td>-6.232500</td>\n",
              "      <td>1.000000</td>\n",
              "    </tr>\n",
              "    <tr>\n",
              "      <th>50%</th>\n",
              "      <td>5776.000000</td>\n",
              "      <td>0.070500</td>\n",
              "      <td>0.762500</td>\n",
              "      <td>8.313000</td>\n",
              "      <td>2.500000</td>\n",
              "    </tr>\n",
              "    <tr>\n",
              "      <th>75%</th>\n",
              "      <td>15055.500000</td>\n",
              "      <td>198050.000000</td>\n",
              "      <td>42.750000</td>\n",
              "      <td>13.697500</td>\n",
              "      <td>4.000000</td>\n",
              "    </tr>\n",
              "    <tr>\n",
              "      <th>max</th>\n",
              "      <td>40000.000000</td>\n",
              "      <td>849420.000000</td>\n",
              "      <td>1948.500000</td>\n",
              "      <td>20.060000</td>\n",
              "      <td>5.000000</td>\n",
              "    </tr>\n",
              "  </tbody>\n",
              "</table>\n",
              "</div>"
            ],
            "text/plain": [
              "        temperature     luminosity       radius  abs_magnitude   star_type\n",
              "count    240.000000     240.000000   240.000000     240.000000  240.000000\n",
              "mean   10497.462500  107188.361635   237.157781       4.382396    2.500000\n",
              "std     9552.425037  179432.244940   517.155763      10.532512    1.711394\n",
              "min     1939.000000       0.000080     0.008400     -11.920000    0.000000\n",
              "25%     3344.250000       0.000865     0.102750      -6.232500    1.000000\n",
              "50%     5776.000000       0.070500     0.762500       8.313000    2.500000\n",
              "75%    15055.500000  198050.000000    42.750000      13.697500    4.000000\n",
              "max    40000.000000  849420.000000  1948.500000      20.060000    5.000000"
            ]
          },
          "execution_count": 22,
          "metadata": {},
          "output_type": "execute_result"
        }
      ],
      "source": [
        "df.describe()"
      ]
    },
    {
      "cell_type": "markdown",
      "id": "e2efafa8",
      "metadata": {
        "id": "e2efafa8"
      },
      "source": [
        "## Промежуточный вывод"
      ]
    },
    {
      "cell_type": "markdown",
      "id": "099a7d02",
      "metadata": {
        "id": "099a7d02"
      },
      "source": [
        "На данном этапе мы сделали:\n",
        "\n",
        "    Открыли наши данные. Затем изучили их. Пропусков не было, явных дубликатов тоже.\n",
        "    \n",
        "    Внесли правки в названия столбцов для дальнейшего удобства пользования.\n",
        "    \n",
        "    Изучили столбец с цветами, убрали неявные дубликаты, объединили малое кол-во планет в одну группу.\n",
        "    \n",
        "    Построили графики для каждого столбца, после чего выяснили:\n",
        "    \n",
        "        'star_color': цвет 'red' встречается чаще всего - 112 раз, 'blue'- 56 записей.\n",
        "        \n",
        "        'star_type': каждый из 6 типов звезд встречается одинаковое количество раз.\n",
        "        \n",
        "        'temperature': принимает значения от 1939 до 40000. Медиана - 5776, стандартное отклонение - 9552.4250.\n",
        "        \n",
        "        'luminosity': принимает значения от 0.000080 до 849420. Медиана - 0.07050, стандартное отклонение - 179432.24494.\n",
        "        \n",
        "        'radius': принимает значения от 0.00840 до 1948.5. Медиана - 0.76250, стандартное отклонение - 517.15576.\n",
        "        \n",
        "        'abs_magnitude': принимает значения от -11.92 до 20.06. Медиана - 8.313, стандартное отклонение -10.53251.\n",
        "\n",
        "    \n",
        "    "
      ]
    },
    {
      "cell_type": "markdown",
      "id": "021f67e5",
      "metadata": {
        "id": "021f67e5"
      },
      "source": [
        "## Подготовка данных к построению модели"
      ]
    },
    {
      "cell_type": "markdown",
      "id": "f1c89043",
      "metadata": {
        "id": "f1c89043"
      },
      "source": [
        "В наших данных имеются:\n",
        "\n",
        "2 категориальных столбца \"star_type\", \"star_color\"\n",
        "\n",
        "4 столбца с числовыми данными"
      ]
    },
    {
      "cell_type": "markdown",
      "id": "bf41eb7e",
      "metadata": {
        "id": "bf41eb7e"
      },
      "source": [
        "Для начала закодируем категориальные столбцы методом используя метод get_dummies."
      ]
    },
    {
      "cell_type": "code",
      "execution_count": null,
      "id": "4f6d12a3",
      "metadata": {
        "id": "4f6d12a3"
      },
      "outputs": [],
      "source": [
        "data_ohe = pd.get_dummies(df, drop_first=True)"
      ]
    },
    {
      "cell_type": "code",
      "execution_count": null,
      "id": "903e443b",
      "metadata": {
        "id": "903e443b",
        "outputId": "3e62e877-78d7-4254-c594-7c12f102d1cb"
      },
      "outputs": [
        {
          "name": "stdout",
          "output_type": "stream",
          "text": [
            "<class 'pandas.core.frame.DataFrame'>\n",
            "Int64Index: 240 entries, 0 to 239\n",
            "Data columns (total 10 columns):\n",
            " #   Column                   Non-Null Count  Dtype  \n",
            "---  ------                   --------------  -----  \n",
            " 0   temperature              240 non-null    int64  \n",
            " 1   luminosity               240 non-null    float64\n",
            " 2   radius                   240 non-null    float64\n",
            " 3   abs_magnitude            240 non-null    float64\n",
            " 4   star_type                240 non-null    int64  \n",
            " 5   star_color_blue-white    240 non-null    uint8  \n",
            " 6   star_color_other         240 non-null    uint8  \n",
            " 7   star_color_red           240 non-null    uint8  \n",
            " 8   star_color_white         240 non-null    uint8  \n",
            " 9   star_color_white-yellow  240 non-null    uint8  \n",
            "dtypes: float64(3), int64(2), uint8(5)\n",
            "memory usage: 12.4 KB\n"
          ]
        }
      ],
      "source": [
        "data_ohe.info()"
      ]
    },
    {
      "cell_type": "code",
      "execution_count": null,
      "id": "2711641a",
      "metadata": {
        "id": "2711641a"
      },
      "outputs": [],
      "source": [
        "x = data_ohe.drop(['temperature'], axis=1)\n",
        "y = data_ohe['temperature']"
      ]
    },
    {
      "cell_type": "markdown",
      "id": "c4185415",
      "metadata": {
        "id": "c4185415"
      },
      "source": [
        "Нам предстоит решить задачу регрессии. Наш целевой признак - температура. Создадим переменные для признаков и целевого признака. Затем разобьем данные на тренировочные и тестовые выборки. После чего используем метод StandardScaler для нормализации числовых данных"
      ]
    },
    {
      "cell_type": "code",
      "execution_count": null,
      "id": "151aa473",
      "metadata": {
        "id": "151aa473"
      },
      "outputs": [],
      "source": [
        "x_train, x_test, y_train, y_test = train_test_split(\n",
        "    x, y, random_state=42, test_size=0.25\n",
        ")"
      ]
    },
    {
      "cell_type": "code",
      "execution_count": null,
      "id": "67b0a09f",
      "metadata": {
        "id": "67b0a09f"
      },
      "outputs": [],
      "source": [
        "scaler = StandardScaler()\n",
        "scaler.fit(x_train)\n",
        "x_train = scaler.transform(x_train)\n",
        "x_test = scaler.transform(x_test)"
      ]
    },
    {
      "cell_type": "code",
      "execution_count": null,
      "id": "f6d4c7fc",
      "metadata": {
        "id": "f6d4c7fc"
      },
      "outputs": [],
      "source": [
        "x_train = torch.FloatTensor(x_train.tolist())\n",
        "x_test = torch.FloatTensor(x_test.tolist())\n",
        "y_train = torch.FloatTensor(y_train.tolist())\n",
        "y_test = torch.FloatTensor(y_test.tolist())"
      ]
    },
    {
      "cell_type": "markdown",
      "id": "a76be5b7",
      "metadata": {
        "id": "a76be5b7"
      },
      "source": [
        "Создадим функцию model_training, которая будет выполнять прямое и обратное распространение ошибки, а также обновлять веса модели с целью минимизации функции потерь и улучшения качества предсказаний."
      ]
    },
    {
      "cell_type": "code",
      "execution_count": null,
      "id": "9d8428fe",
      "metadata": {
        "id": "9d8428fe"
      },
      "outputs": [],
      "source": [
        "def model_training(train_x, train_y):\n",
        "    optimizer.zero_grad()\n",
        "    preds = net.forward(train_x).flatten()\n",
        "\n",
        "    # L2-Регуляризация весов\n",
        "    l2_lambda = 0.001\n",
        "    l2_norm = sum(p.pow(2.0).sum() for p in net.parameters())\n",
        "    loss_value = torch.sqrt(loss(preds, train_y)) + l2_lambda * l2_norm\n",
        "    loss_value.backward()\n",
        "\n",
        "    optimizer.step()"
      ]
    },
    {
      "cell_type": "markdown",
      "id": "a1999ea2",
      "metadata": {
        "id": "a1999ea2"
      },
      "source": [
        "Дальше создадим функцию model_testing, которая позволит оценить качество предсказаний модели на тестовом наборе данных после каждой эпохи обучения. Это позволит контролировать процесс обучения и выявлять улучшения или переобучение модели по ходу обучения."
      ]
    },
    {
      "cell_type": "code",
      "execution_count": null,
      "id": "800be000",
      "metadata": {
        "id": "800be000"
      },
      "outputs": [],
      "source": [
        "def model_testing(epoch):\n",
        "    net.eval()\n",
        "    test_preds = net.forward(x_test).flatten()\n",
        "    print('Epoch:', epoch)\n",
        "    print('RMSE =', torch.sqrt(loss(test_preds, y_test)).item(), '\\n')\n",
        "    return test_preds"
      ]
    },
    {
      "cell_type": "markdown",
      "id": "f62358bb",
      "metadata": {
        "id": "f62358bb"
      },
      "source": [
        "Создадим функцию batch_training, которая будет использоваться для обучения модели с использованием батчей. Эта функция позволяет обучать модель пакетами данных, что может ускорить процесс обучения и улучшить сходимость модели."
      ]
    },
    {
      "cell_type": "code",
      "execution_count": null,
      "id": "c34c9919",
      "metadata": {
        "id": "c34c9919"
      },
      "outputs": [],
      "source": [
        "def batch_training(epochs_num, epoch_test):\n",
        "    batch_size = 100\n",
        "    num_batches = ceil(len(x_train) / batch_size)\n",
        "\n",
        "    for epoch in range(epochs_num):\n",
        "        order = np.random.permutation(len(x_train))\n",
        "        for batch_idx in range(num_batches):\n",
        "            start_idx = batch_idx * batch_size\n",
        "\n",
        "            optimizer.zero_grad()\n",
        "\n",
        "            batch_indexes = order[start_idx:start_idx + batch_size]\n",
        "            x_batch = x_train[batch_indexes]\n",
        "            y_batch = y_train[batch_indexes]\n",
        "\n",
        "            model_training(x_batch, y_batch)\n",
        "        if epoch % epoch_test == 0:\n",
        "            y_pred = model_testing(epoch)\n",
        "    return y_pred"
      ]
    },
    {
      "cell_type": "markdown",
      "id": "85fa7352",
      "metadata": {
        "id": "85fa7352"
      },
      "source": [
        "Напишим функцию для отображения графика \"Факт-Прогноз\""
      ]
    },
    {
      "cell_type": "code",
      "execution_count": null,
      "id": "9d2e73aa",
      "metadata": {
        "id": "9d2e73aa"
      },
      "outputs": [],
      "source": [
        "def fact_forecast(y_pred):\n",
        "    start = 0\n",
        "    end = 15\n",
        "\n",
        "    basic_df = y_test[start:end]\n",
        "    nn_df = y_pred[start:end]\n",
        "\n",
        "    plt.figure(figsize=(7, 7))\n",
        "    plt.bar(range(start, end), nn_df.detach().numpy(), color='#06BAB6', label='Прогноз')\n",
        "    plt.bar(range(start, end), basic_df, color='orange', width=0.5, label='Факт')\n",
        "\n",
        "    plt.legend()\n",
        "    plt.title('Факт-Прогноз', fontsize=16)\n",
        "    plt.xlabel('Номер звезды в таблице данных', fontsize=14)\n",
        "    plt.ylabel('Температура звезды', fontsize=14)\n",
        "    plt.xticks(fontsize=12)\n",
        "    plt.yticks(fontsize=12)\n",
        "    plt.show()"
      ]
    },
    {
      "cell_type": "markdown",
      "id": "a9d69d96",
      "metadata": {
        "id": "a9d69d96"
      },
      "source": [
        "Дальше инициализируем нейронную сеть прямого распространения с двумя скрытыми слоями, входной размер сети (in_neurons) равен количеству признаков в обучающем наборе данных (x_train.shape[1]).8 нейронов в первом скрытом слое, 4  нейронов во втором скрытом слое и одного нейрона в выходном слое, так как мы предсказываем только одну величину. В качестве функции активации взял nn.LeakyReLU()"
      ]
    },
    {
      "cell_type": "code",
      "execution_count": null,
      "id": "9d4fd24d",
      "metadata": {
        "id": "9d4fd24d"
      },
      "outputs": [],
      "source": [
        "in_neurons = x_train.shape[1]\n",
        "hidden_neurons_1 = 8\n",
        "hidden_neurons_2 = 4\n",
        "out_neurons = 1\n",
        "\n",
        "class NeuralNet(nn.Module):\n",
        "    def __init__(self, in_neurons, hidden_neurons_1, hidden_neurons_2, out_neurons):\n",
        "        super(NeuralNet, self).__init__()\n",
        "        self.fc1 = nn.Linear(in_neurons, hidden_neurons_1)\n",
        "        self.ac1 = nn.LeakyReLU()\n",
        "        self.fc2 = nn.Linear(hidden_neurons_1, hidden_neurons_2)\n",
        "        self.ac2 = nn.LeakyReLU()\n",
        "        self.fc3 = nn.Linear(hidden_neurons_2, out_neurons)\n",
        "        self.ac3 = nn.LeakyReLU()\n",
        "\n",
        "         # Инициализация весов и смещений для первого слоя\n",
        "        nn.init.uniform_(self.fc1.weight, -2, 2)\n",
        "        nn.init.zeros_(self.fc1.bias)\n",
        "\n",
        "        # Инициализация весов и смещений для второго слоя\n",
        "        nn.init.kaiming_uniform_(self.fc2.weight)\n",
        "        nn.init.normal_(self.fc2.bias, mean=0.5, std=0.7)\n",
        "\n",
        "        # Инициализация весов и смещений для выходного слоя\n",
        "        nn.init.xavier_normal_(self.fc3.weight)\n",
        "        nn.init.normal_(self.fc3.bias, mean=0.5, std=0.7)\n",
        "\n",
        "    def forward(self, x):\n",
        "        x = self.fc1(x)\n",
        "        x = self.ac1(x)\n",
        "        x = self.fc2(x)\n",
        "        x = self.ac2(x)\n",
        "        x = self.fc3(x)\n",
        "        x = self.ac3(x)\n",
        "        return x\n",
        "\n",
        "\n",
        "# Инициализация нейросети\n",
        "net = NeuralNet(in_neurons, hidden_neurons_1, hidden_neurons_2, out_neurons)"
      ]
    },
    {
      "cell_type": "markdown",
      "id": "94209dad",
      "metadata": {
        "id": "94209dad"
      },
      "source": [
        "Напишем функцию init_weights, которая используется для инициализации весов нейросети. Эта функция применяется к каждому слою нейросети с помощью метода apply."
      ]
    },
    {
      "cell_type": "code",
      "execution_count": null,
      "id": "3dc3f09f",
      "metadata": {
        "id": "3dc3f09f",
        "outputId": "d716510f-c5f4-404f-8d3f-fe8a23edd6e2"
      },
      "outputs": [
        {
          "data": {
            "text/plain": [
              "NeuralNet(\n",
              "  (fc1): Linear(in_features=9, out_features=8, bias=True)\n",
              "  (ac1): LeakyReLU(negative_slope=0.01)\n",
              "  (fc2): Linear(in_features=8, out_features=4, bias=True)\n",
              "  (ac2): LeakyReLU(negative_slope=0.01)\n",
              "  (fc3): Linear(in_features=4, out_features=1, bias=True)\n",
              "  (ac3): LeakyReLU(negative_slope=0.01)\n",
              ")"
            ]
          },
          "execution_count": 34,
          "metadata": {},
          "output_type": "execute_result"
        }
      ],
      "source": [
        "def init_weights(layer):\n",
        "    if type(layer) == nn.Linear:\n",
        "        nn.init.kaiming_uniform_(\n",
        "            layer.weight,\n",
        "            mode='fan_in',\n",
        "            nonlinearity='relu'\n",
        "        )\n",
        "\n",
        "\n",
        "net.apply(init_weights)"
      ]
    },
    {
      "cell_type": "markdown",
      "id": "3b487659",
      "metadata": {
        "id": "3b487659"
      },
      "source": [
        "Создадим оптимизатор и функцию потерь для обучения нейросети.\n"
      ]
    },
    {
      "cell_type": "code",
      "execution_count": null,
      "id": "ee451147",
      "metadata": {
        "id": "ee451147",
        "outputId": "9118a3f0-a719-4729-a854-4e0cb43296a1"
      },
      "outputs": [
        {
          "name": "stdout",
          "output_type": "stream",
          "text": [
            "Epoch: 0\n",
            "RMSE = 14623.9619140625 \n",
            "\n",
            "Epoch: 1000\n",
            "RMSE = 11162.1728515625 \n",
            "\n",
            "Epoch: 2000\n",
            "RMSE = 6091.5302734375 \n",
            "\n",
            "Epoch: 3000\n",
            "RMSE = 5601.43359375 \n",
            "\n",
            "Epoch: 4000\n",
            "RMSE = 5385.41552734375 \n",
            "\n",
            "Epoch: 5000\n",
            "RMSE = 5203.43408203125 \n",
            "\n",
            "Epoch: 6000\n",
            "RMSE = 4990.37646484375 \n",
            "\n",
            "Epoch: 7000\n",
            "RMSE = 4828.08544921875 \n",
            "\n",
            "Epoch: 8000\n",
            "RMSE = 4796.82666015625 \n",
            "\n"
          ]
        }
      ],
      "source": [
        "optimizer = torch.optim.Adam(net.parameters(), lr=2e-3)\n",
        "loss = nn.MSELoss()\n",
        "\n",
        "\n",
        "num_epochs = 8001\n",
        "\n",
        "for epoch in range(num_epochs):\n",
        "    model_training(x_train, y_train)\n",
        "    if epoch % 1000 == 0:\n",
        "        basic_nn_preds = model_testing(epoch)"
      ]
    },
    {
      "cell_type": "markdown",
      "id": "608f4cac",
      "metadata": {
        "id": "608f4cac"
      },
      "source": [
        "Данный код выполняет обучение нейросети с использованием оптимизатора Adam и функции потерь MSE на протяжении указанного количества эпох. Каждую тысячу эпох выполняется валидация модели."
      ]
    },
    {
      "cell_type": "code",
      "execution_count": null,
      "id": "32955d17",
      "metadata": {
        "id": "32955d17",
        "outputId": "ec1aa53c-f535-4b6b-846c-8283d318f571"
      },
      "outputs": [
        {
          "data": {
            "image/png": "[encoded data removed]",
            "text/plain": [
              "<Figure size 504x504 with 1 Axes>"
            ]
          },
          "metadata": {
            "needs_background": "light"
          },
          "output_type": "display_data"
        }
      ],
      "source": [
        "fact_forecast(basic_nn_preds)"
      ]
    },
    {
      "cell_type": "markdown",
      "id": "7f75452c",
      "metadata": {
        "id": "7f75452c"
      },
      "source": [
        "## Улучшение нейронной сети"
      ]
    },
    {
      "cell_type": "markdown",
      "id": "7f520a0f",
      "metadata": {
        "id": "7f520a0f"
      },
      "source": [
        "Создадим класс нейронной сети с тремя скрытыми слоями и использовать батчи для тренировки и тестирования модели."
      ]
    },
    {
      "cell_type": "code",
      "execution_count": null,
      "id": "3de89162",
      "metadata": {
        "id": "3de89162",
        "outputId": "4150f92a-119a-4cb9-f0ed-e53544e69f2b"
      },
      "outputs": [
        {
          "name": "stdout",
          "output_type": "stream",
          "text": [
            "Epoch: 0\n",
            "RMSE = 14626.029296875 \n",
            "\n",
            "Epoch: 3000\n",
            "RMSE = 5924.263671875 \n",
            "\n",
            "Epoch: 6000\n",
            "RMSE = 5414.41357421875 \n",
            "\n",
            "Epoch: 9000\n",
            "RMSE = 5178.57373046875 \n",
            "\n",
            "Epoch: 12000\n",
            "RMSE = 4963.04736328125 \n",
            "\n",
            "Epoch: 15000\n",
            "RMSE = 4823.11572265625 \n",
            "\n"
          ]
        }
      ],
      "source": [
        "class ImprovedlNet(nn.Module):\n",
        "    def __init__(self, in_neurons, hidden_neurons_1, hidden_neurons_2, out_neurons):\n",
        "        super(ImprovedlNet, self).__init__()\n",
        "        self.fc1 = nn.Linear(in_neurons, hidden_neurons_1)\n",
        "        self.ac1 = nn.LeakyReLU()\n",
        "        self.fc2 = nn.Linear(hidden_neurons_1, hidden_neurons_2)\n",
        "        self.ac2 = nn.LeakyReLU()\n",
        "        self.fc3 = nn.Linear(hidden_neurons_2, out_neurons)\n",
        "        self.ac3 = nn.LeakyReLU()\n",
        "\n",
        "    def forward(self, x):\n",
        "        x = self.fc1(x)\n",
        "        x = self.ac1(x)\n",
        "        x = self.fc2(x)\n",
        "        x = self.ac2(x)\n",
        "        x = self.fc3(x)\n",
        "        x = self.ac3(x)\n",
        "        return x\n",
        "\n",
        "\n",
        "# Инициализация сети и весов для нее\n",
        "net = ImprovedlNet(in_neurons, hidden_neurons_1, hidden_neurons_2, out_neurons)\n",
        "net.apply(init_weights)\n",
        "\n",
        "# Новая инициализация оптимизатора (поскольку используется новая модель)\n",
        "optimizer = torch.optim.Adam(net.parameters(), lr=1e-3)\n",
        "\n",
        "# Тренировка и тестирование нейросети с использованием батчей\n",
        "batch_nn_preds = batch_training(epochs_num=15001, epoch_test=3000)"
      ]
    },
    {
      "cell_type": "code",
      "execution_count": null,
      "id": "704ad9f9",
      "metadata": {
        "id": "704ad9f9",
        "outputId": "9da8f494-b000-4dc9-aefe-9145b36095c6"
      },
      "outputs": [
        {
          "data": {
            "image/png": "[encoded data removed]",
            "text/plain": [
              "<Figure size 504x504 with 1 Axes>"
            ]
          },
          "metadata": {
            "needs_background": "light"
          },
          "output_type": "display_data"
        }
      ],
      "source": [
        "fact_forecast(batch_nn_preds)"
      ]
    },
    {
      "cell_type": "markdown",
      "id": "36a99424",
      "metadata": {
        "id": "36a99424"
      },
      "source": [
        "Удалось достичь значения показателя RMSE 4800."
      ]
    },
    {
      "cell_type": "markdown",
      "id": "d4dbaebe",
      "metadata": {
        "id": "d4dbaebe"
      },
      "source": [
        "Создадим улучшенную нейросеть с нормализацией батчей"
      ]
    },
    {
      "cell_type": "code",
      "execution_count": null,
      "id": "4c935038",
      "metadata": {
        "id": "4c935038",
        "outputId": "f11a920d-5c4e-4cb6-abef-ac6dc11b5bd9"
      },
      "outputs": [
        {
          "name": "stdout",
          "output_type": "stream",
          "text": [
            "Epoch: 0\n",
            "RMSE = 14626.3544921875 \n",
            "\n",
            "Epoch: 500\n",
            "RMSE = 7564.04736328125 \n",
            "\n",
            "Epoch: 1000\n",
            "RMSE = 5684.10107421875 \n",
            "\n",
            "Epoch: 1500\n",
            "RMSE = 5478.46826171875 \n",
            "\n",
            "Epoch: 2000\n",
            "RMSE = 5366.6533203125 \n",
            "\n",
            "Epoch: 2500\n",
            "RMSE = 5201.18603515625 \n",
            "\n",
            "Epoch: 3000\n",
            "RMSE = 5032.22998046875 \n",
            "\n",
            "Epoch: 3500\n",
            "RMSE = 4884.12744140625 \n",
            "\n",
            "Epoch: 4000\n",
            "RMSE = 4741.5732421875 \n",
            "\n",
            "Epoch: 4500\n",
            "RMSE = 4605.71923828125 \n",
            "\n",
            "Epoch: 5000\n",
            "RMSE = 4511.736328125 \n",
            "\n"
          ]
        }
      ],
      "source": [
        "class BatchImprovedNet(nn.Module):\n",
        "    def __init__(self, in_neurons, hidden_neurons_1, hidden_neurons_2, out_neurons):\n",
        "        super(BatchImprovedNet, self).__init__()\n",
        "        self.fc1 = nn.Linear(in_neurons, hidden_neurons_1)\n",
        "        self.batch1 = nn.BatchNorm1d(hidden_neurons_1)\n",
        "        self.ac1 = nn.LeakyReLU()\n",
        "        self.fc2 = nn.Linear(hidden_neurons_1, hidden_neurons_2)\n",
        "        self.batch2 = nn.BatchNorm1d(hidden_neurons_2)\n",
        "        self.ac2 = nn.LeakyReLU()\n",
        "        self.fc3 = nn.Linear(hidden_neurons_2, out_neurons)\n",
        "        self.batch3 = nn.BatchNorm1d(out_neurons)\n",
        "        self.ac3 = nn.LeakyReLU()\n",
        "\n",
        "        # Инициализация весов и смещений для первого слоя\n",
        "        nn.init.uniform_(self.fc1.weight, -2, 2)\n",
        "        nn.init.zeros_(self.fc1.bias)\n",
        "\n",
        "        # Инициализация весов и смещений для второго слоя\n",
        "        nn.init.xavier_uniform_(self.fc2.weight)\n",
        "        nn.init.zeros_(self.fc2.bias)\n",
        "\n",
        "        # Инициализация весов и смещений для выходного слоя\n",
        "        nn.init.xavier_uniform_(self.fc3.weight)\n",
        "        nn.init.zeros_(self.fc3.bias)\n",
        "\n",
        "    def forward(self, x):\n",
        "        x = self.fc1(x)\n",
        "        x = self.batch1(x)\n",
        "        x = self.ac1(x)\n",
        "        x = self.fc2(x)\n",
        "        x = self.batch2(x)\n",
        "        x = self.ac2(x)\n",
        "        x = self.fc3(x)\n",
        "        x = self.batch3(x)\n",
        "        x = self.ac3(x)\n",
        "        return x\n",
        "\n",
        "\n",
        "net = BatchImprovedNet(in_neurons, hidden_neurons_1, hidden_neurons_2, out_neurons)\n",
        "net.apply(init_weights)\n",
        "optimizer = torch.optim.Adam(net.parameters(), lr=1e-3)\n",
        "\n",
        "batch_norm = batch_training(epochs_num=5001, epoch_test=500)"
      ]
    },
    {
      "cell_type": "code",
      "execution_count": null,
      "id": "caf70c3b",
      "metadata": {
        "id": "caf70c3b",
        "outputId": "7abb1c15-8879-4832-92b9-fd4e78c9508b"
      },
      "outputs": [
        {
          "data": {
            "image/png": "[encoded data removed]",
            "text/plain": [
              "<Figure size 504x504 with 1 Axes>"
            ]
          },
          "metadata": {
            "needs_background": "light"
          },
          "output_type": "display_data"
        }
      ],
      "source": [
        "fact_forecast(batch_norm)"
      ]
    },
    {
      "cell_type": "markdown",
      "id": "e0c9f8e5",
      "metadata": {
        "id": "e0c9f8e5"
      },
      "source": [
        "Модель достигла значения 4500.\n"
      ]
    },
    {
      "cell_type": "markdown",
      "id": "2090d8c4",
      "metadata": {
        "id": "2090d8c4"
      },
      "source": [
        "Создадим класс нейронной сети DropoutNeuralNet с Dropout-слоями. В конструкторе класса определяются слои нейронной сети, включая Dropout-слои, и активационные функции между ними."
      ]
    },
    {
      "cell_type": "code",
      "execution_count": null,
      "id": "ac20c431",
      "metadata": {
        "id": "ac20c431",
        "outputId": "9d629c37-4dc1-4721-def4-8aa700cab676"
      },
      "outputs": [
        {
          "name": "stdout",
          "output_type": "stream",
          "text": [
            "Epoch: 0\n",
            "RMSE = 14625.853515625 \n",
            "\n",
            "Epoch: 1000\n",
            "RMSE = 12982.0576171875 \n",
            "\n",
            "Epoch: 2000\n",
            "RMSE = 8563.4013671875 \n",
            "\n",
            "Epoch: 3000\n",
            "RMSE = 6834.2822265625 \n",
            "\n",
            "Epoch: 4000\n",
            "RMSE = 5997.77734375 \n",
            "\n",
            "Epoch: 5000\n",
            "RMSE = 5611.3994140625 \n",
            "\n",
            "Epoch: 6000\n",
            "RMSE = 5513.3310546875 \n",
            "\n",
            "Epoch: 7000\n",
            "RMSE = 5448.4306640625 \n",
            "\n",
            "Epoch: 8000\n",
            "RMSE = 5377.724609375 \n",
            "\n",
            "Epoch: 9000\n",
            "RMSE = 5306.63525390625 \n",
            "\n",
            "Epoch: 10000\n",
            "RMSE = 5249.84033203125 \n",
            "\n",
            "Epoch: 11000\n",
            "RMSE = 5201.67138671875 \n",
            "\n",
            "Epoch: 12000\n",
            "RMSE = 5161.74560546875 \n",
            "\n",
            "Epoch: 13000\n",
            "RMSE = 5132.07373046875 \n",
            "\n",
            "Epoch: 14000\n",
            "RMSE = 5106.70166015625 \n",
            "\n",
            "Epoch: 15000\n",
            "RMSE = 5089.42431640625 \n",
            "\n"
          ]
        }
      ],
      "source": [
        "class DropoutNeuralNet(nn.Module):\n",
        "    def __init__(self, in_neurons, hidden_neurons_1, hidden_neurons_2, out_neurons):\n",
        "        super(DropoutNeuralNet, self).__init__()\n",
        "        self.fc1 = nn.Linear(in_neurons, hidden_neurons_1)\n",
        "        self.drop1 = nn.Dropout(p=0.6)\n",
        "        self.ac1 = nn.LeakyReLU()\n",
        "        self.fc2 = nn.Linear(hidden_neurons_1, hidden_neurons_2)\n",
        "        self.drop2 = nn.Dropout(p=0.6)\n",
        "        self.ac2 = nn.LeakyReLU()\n",
        "        self.fc3 = nn.Linear(hidden_neurons_2, out_neurons)\n",
        "        self.ac3 = nn.LeakyReLU()\n",
        "\n",
        "    def forward(self, x):\n",
        "        x = self.fc1(x)\n",
        "        x = self.drop1(x)\n",
        "        x = self.ac1(x)\n",
        "        x = self.fc2(x)\n",
        "        x = self.drop2(x)\n",
        "        x = self.ac2(x)\n",
        "        x = self.fc3(x)\n",
        "        x = self.ac3(x)\n",
        "        return x\n",
        "\n",
        "\n",
        "\n",
        "net = DropoutNeuralNet(in_neurons, hidden_neurons_1, hidden_neurons_2, out_neurons)\n",
        "net.apply(init_weights)\n",
        "optimizer = torch.optim.Adam(net.parameters(), lr=1e-3)\n",
        "\n",
        "dropout = batch_training(epochs_num=15001, epoch_test=1000)"
      ]
    },
    {
      "cell_type": "code",
      "execution_count": null,
      "id": "5ea87973",
      "metadata": {
        "id": "5ea87973",
        "outputId": "f212e4ba-f0d0-4018-f561-ba0720486f55"
      },
      "outputs": [
        {
          "data": {
            "image/png": "[encoded data removed]",
            "text/plain": [
              "<Figure size 504x504 with 1 Axes>"
            ]
          },
          "metadata": {
            "needs_background": "light"
          },
          "output_type": "display_data"
        }
      ],
      "source": [
        "fact_forecast(dropout)"
      ]
    },
    {
      "cell_type": "markdown",
      "id": "16640895",
      "metadata": {
        "id": "16640895"
      },
      "source": [
        "Метрика RMSE достигла значения около 4880 - порог не пройден.\n"
      ]
    },
    {
      "cell_type": "code",
      "execution_count": null,
      "id": "2968c5b7",
      "metadata": {
        "id": "2968c5b7",
        "outputId": "c9bd231c-c5b5-4f5d-f65c-9e990add405d"
      },
      "outputs": [
        {
          "name": "stdout",
          "output_type": "stream",
          "text": [
            "\n",
            "Нейросеть с нормализацией батчей:\n"
          ]
        },
        {
          "data": {
            "image/png": "[encoded data removed]",
            "text/plain": [
              "<Figure size 504x504 with 1 Axes>"
            ]
          },
          "metadata": {
            "needs_background": "light"
          },
          "output_type": "display_data"
        },
        {
          "name": "stdout",
          "output_type": "stream",
          "text": [
            "Базовая нейронная сеть:\n"
          ]
        },
        {
          "data": {
            "image/png": "[encoded data removed]",
            "text/plain": [
              "<Figure size 504x504 with 1 Axes>"
            ]
          },
          "metadata": {
            "needs_background": "light"
          },
          "output_type": "display_data"
        }
      ],
      "source": [
        "print('\\nНейросеть с нормализацией батчей:')\n",
        "fact_forecast(batch_norm)\n",
        "\n",
        "print('Базовая нейронная сеть:')\n",
        "fact_forecast(basic_nn_preds)"
      ]
    },
    {
      "cell_type": "markdown",
      "id": "accurate-infrastructure",
      "metadata": {
        "id": "accurate-infrastructure"
      },
      "source": [
        "## Вывод"
      ]
    },
    {
      "cell_type": "markdown",
      "id": "606367f6",
      "metadata": {
        "id": "606367f6"
      },
      "source": [
        "В ходе исследовательского анализа были проанализированы количественные и категориальные данные.\n",
        "\n",
        "Для данных были построены графики и был написан промежуточный вывод после иследовательского анализа.\n",
        "\n",
        "Далее мы закодировали данные и произвели масштабирование. После чего данные были разделены на тренировачную и тестовую выборки.\n",
        "\n",
        "В ходе работы нам нужно было решить задачу регрессии - предсказать температуру звезды. Для этого было построено несколько простых моделей нейронных сетей с разными архитектурами и функциями активации. Модель была обучена и проанализирована на графике \"Факт - Прогноз\"\n",
        "\n",
        "На следующем шаге было создано решение с перебором параметров нейросети, включая dropout и размер батча.\n",
        "\n",
        "Рекомендуется использовать нейросеть с использованием нормализации батчей, поскольку ее метрика ниже, а ресурсы на обучение и тестирование не столь значительны в отличие от базовой нейронной сети."
      ]
    },
    {
      "cell_type": "code",
      "execution_count": null,
      "id": "36ca8dfa",
      "metadata": {
        "id": "36ca8dfa"
      },
      "outputs": [],
      "source": []
    }
  ],
  "metadata": {
    "ExecuteTimeLog": [
      {
        "duration": 2279,
        "start_time": "2024-02-18T09:49:55.053Z"
      },
      {
        "duration": 140,
        "start_time": "2024-02-18T09:50:21.450Z"
      },
      {
        "duration": 40,
        "start_time": "2024-02-18T11:18:52.422Z"
      },
      {
        "duration": 4621,
        "start_time": "2024-02-18T11:50:52.773Z"
      },
      {
        "duration": 4,
        "start_time": "2024-02-18T11:59:13.565Z"
      },
      {
        "duration": 5,
        "start_time": "2024-02-18T11:59:54.745Z"
      },
      {
        "duration": 104,
        "start_time": "2024-02-18T12:03:05.653Z"
      },
      {
        "duration": 3,
        "start_time": "2024-02-18T12:03:16.574Z"
      },
      {
        "duration": 67,
        "start_time": "2024-02-18T12:03:49.370Z"
      },
      {
        "duration": 18,
        "start_time": "2024-02-18T12:04:23.549Z"
      },
      {
        "duration": 14,
        "start_time": "2024-02-18T12:52:34.861Z"
      },
      {
        "duration": 24,
        "start_time": "2024-02-18T12:55:40.348Z"
      },
      {
        "duration": 5,
        "start_time": "2024-02-18T12:56:25.121Z"
      },
      {
        "duration": 4,
        "start_time": "2024-02-18T13:01:45.913Z"
      },
      {
        "duration": 10,
        "start_time": "2024-02-18T13:02:12.527Z"
      },
      {
        "duration": 19,
        "start_time": "2024-02-18T13:04:21.360Z"
      },
      {
        "duration": 4,
        "start_time": "2024-02-18T13:04:29.418Z"
      },
      {
        "duration": 6,
        "start_time": "2024-02-18T13:06:53.773Z"
      },
      {
        "duration": 4,
        "start_time": "2024-02-18T13:07:24.555Z"
      },
      {
        "duration": 6,
        "start_time": "2024-02-18T13:07:29.051Z"
      },
      {
        "duration": 5,
        "start_time": "2024-02-18T13:07:50.134Z"
      },
      {
        "duration": 6,
        "start_time": "2024-02-18T14:12:56.662Z"
      },
      {
        "duration": 7,
        "start_time": "2024-02-18T14:13:03.128Z"
      },
      {
        "duration": 1351,
        "start_time": "2024-02-18T14:13:11.426Z"
      },
      {
        "duration": 1234,
        "start_time": "2024-02-18T14:13:54.820Z"
      },
      {
        "duration": 5,
        "start_time": "2024-02-18T14:14:19.120Z"
      },
      {
        "duration": 1338,
        "start_time": "2024-02-18T14:14:27.281Z"
      },
      {
        "duration": 0,
        "start_time": "2024-02-18T14:14:28.621Z"
      },
      {
        "duration": 2008,
        "start_time": "2024-02-18T14:14:45.160Z"
      },
      {
        "duration": 3,
        "start_time": "2024-02-18T14:14:47.170Z"
      },
      {
        "duration": 31,
        "start_time": "2024-02-18T14:14:47.175Z"
      },
      {
        "duration": 18,
        "start_time": "2024-02-18T14:14:47.208Z"
      },
      {
        "duration": 13,
        "start_time": "2024-02-18T14:14:47.229Z"
      },
      {
        "duration": 39,
        "start_time": "2024-02-18T14:14:47.243Z"
      },
      {
        "duration": 7,
        "start_time": "2024-02-18T14:14:47.284Z"
      },
      {
        "duration": 9,
        "start_time": "2024-02-18T14:14:47.292Z"
      },
      {
        "duration": 14,
        "start_time": "2024-02-18T14:14:47.303Z"
      },
      {
        "duration": 4,
        "start_time": "2024-02-18T14:14:47.319Z"
      },
      {
        "duration": 6,
        "start_time": "2024-02-18T14:14:47.324Z"
      },
      {
        "duration": 5,
        "start_time": "2024-02-18T14:14:47.332Z"
      },
      {
        "duration": 14,
        "start_time": "2024-02-18T14:14:47.338Z"
      },
      {
        "duration": 5,
        "start_time": "2024-02-18T14:14:59.947Z"
      },
      {
        "duration": 4,
        "start_time": "2024-02-18T14:15:52.981Z"
      },
      {
        "duration": 16,
        "start_time": "2024-02-18T14:15:56.174Z"
      },
      {
        "duration": 4,
        "start_time": "2024-02-18T14:16:03.052Z"
      },
      {
        "duration": 191,
        "start_time": "2024-02-18T14:28:45.430Z"
      },
      {
        "duration": 5,
        "start_time": "2024-02-18T14:28:49.071Z"
      },
      {
        "duration": 6,
        "start_time": "2024-02-18T14:31:49.198Z"
      },
      {
        "duration": 7,
        "start_time": "2024-02-18T14:31:51.748Z"
      },
      {
        "duration": 1554,
        "start_time": "2024-02-18T14:33:21.653Z"
      },
      {
        "duration": 13,
        "start_time": "2024-02-18T14:33:44.087Z"
      },
      {
        "duration": 6,
        "start_time": "2024-02-18T14:33:53.719Z"
      },
      {
        "duration": 4,
        "start_time": "2024-02-18T14:35:34.201Z"
      },
      {
        "duration": 6,
        "start_time": "2024-02-18T14:35:44.174Z"
      },
      {
        "duration": 3,
        "start_time": "2024-02-18T14:38:16.830Z"
      },
      {
        "duration": 4,
        "start_time": "2024-02-18T14:38:28.391Z"
      },
      {
        "duration": 5,
        "start_time": "2024-02-18T14:38:33.916Z"
      },
      {
        "duration": 1934,
        "start_time": "2024-02-18T14:40:42.308Z"
      },
      {
        "duration": 3,
        "start_time": "2024-02-18T14:40:44.244Z"
      },
      {
        "duration": 40,
        "start_time": "2024-02-18T14:40:44.250Z"
      },
      {
        "duration": 18,
        "start_time": "2024-02-18T14:40:44.292Z"
      },
      {
        "duration": 20,
        "start_time": "2024-02-18T14:40:44.311Z"
      },
      {
        "duration": 53,
        "start_time": "2024-02-18T14:40:44.332Z"
      },
      {
        "duration": 6,
        "start_time": "2024-02-18T14:40:44.387Z"
      },
      {
        "duration": 4,
        "start_time": "2024-02-18T14:40:44.394Z"
      },
      {
        "duration": 14,
        "start_time": "2024-02-18T14:40:44.399Z"
      },
      {
        "duration": 6,
        "start_time": "2024-02-18T14:40:44.414Z"
      },
      {
        "duration": 7,
        "start_time": "2024-02-18T14:40:44.421Z"
      },
      {
        "duration": 18,
        "start_time": "2024-02-18T14:40:44.429Z"
      },
      {
        "duration": 16,
        "start_time": "2024-02-18T14:40:44.450Z"
      },
      {
        "duration": 160,
        "start_time": "2024-02-18T14:40:44.467Z"
      },
      {
        "duration": 0,
        "start_time": "2024-02-18T14:40:44.628Z"
      },
      {
        "duration": 0,
        "start_time": "2024-02-18T14:40:44.629Z"
      },
      {
        "duration": 0,
        "start_time": "2024-02-18T14:40:44.631Z"
      },
      {
        "duration": 5,
        "start_time": "2024-02-18T14:40:56.865Z"
      },
      {
        "duration": 3,
        "start_time": "2024-02-18T14:40:58.879Z"
      },
      {
        "duration": 3,
        "start_time": "2024-02-18T14:40:59.227Z"
      },
      {
        "duration": 6,
        "start_time": "2024-02-18T14:40:59.646Z"
      },
      {
        "duration": 13,
        "start_time": "2024-02-18T14:42:21.437Z"
      },
      {
        "duration": 404,
        "start_time": "2024-02-18T14:52:01.423Z"
      },
      {
        "duration": 184,
        "start_time": "2024-02-18T15:02:43.248Z"
      },
      {
        "duration": 107,
        "start_time": "2024-02-18T15:03:22.330Z"
      },
      {
        "duration": 198,
        "start_time": "2024-02-18T15:03:26.853Z"
      },
      {
        "duration": 148,
        "start_time": "2024-02-18T15:03:45.091Z"
      },
      {
        "duration": 138,
        "start_time": "2024-02-18T15:03:51.351Z"
      },
      {
        "duration": 6,
        "start_time": "2024-02-18T15:04:20.810Z"
      },
      {
        "duration": 179,
        "start_time": "2024-02-18T15:05:34.425Z"
      },
      {
        "duration": 106,
        "start_time": "2024-02-18T15:06:49.814Z"
      },
      {
        "duration": 172,
        "start_time": "2024-02-18T15:07:00.459Z"
      },
      {
        "duration": 172,
        "start_time": "2024-02-18T15:07:20.737Z"
      },
      {
        "duration": 135,
        "start_time": "2024-02-18T15:07:31.254Z"
      },
      {
        "duration": 151,
        "start_time": "2024-02-18T15:08:02.056Z"
      },
      {
        "duration": 165,
        "start_time": "2024-02-18T15:12:37.851Z"
      },
      {
        "duration": 1732,
        "start_time": "2024-02-18T15:15:51.592Z"
      },
      {
        "duration": 1815,
        "start_time": "2024-02-18T15:16:39.618Z"
      },
      {
        "duration": 1628,
        "start_time": "2024-02-18T15:16:56.524Z"
      },
      {
        "duration": 298,
        "start_time": "2024-02-18T15:17:43.055Z"
      },
      {
        "duration": 1847,
        "start_time": "2024-02-18T15:17:47.899Z"
      },
      {
        "duration": 1529,
        "start_time": "2024-02-18T15:18:26.776Z"
      },
      {
        "duration": 282,
        "start_time": "2024-02-18T15:25:49.677Z"
      },
      {
        "duration": 245,
        "start_time": "2024-02-18T15:25:57.808Z"
      },
      {
        "duration": 1779,
        "start_time": "2024-02-18T15:26:12.133Z"
      },
      {
        "duration": 18,
        "start_time": "2024-02-18T15:35:36.981Z"
      },
      {
        "duration": 21,
        "start_time": "2024-02-18T15:35:49.315Z"
      },
      {
        "duration": 152,
        "start_time": "2024-02-18T15:38:53.640Z"
      },
      {
        "duration": 193,
        "start_time": "2024-02-18T15:39:06.708Z"
      },
      {
        "duration": 146,
        "start_time": "2024-02-18T15:39:14.720Z"
      },
      {
        "duration": 173,
        "start_time": "2024-02-18T15:39:28.736Z"
      },
      {
        "duration": 180,
        "start_time": "2024-02-18T15:39:36.166Z"
      },
      {
        "duration": 3038,
        "start_time": "2024-02-18T15:40:50.665Z"
      },
      {
        "duration": 154,
        "start_time": "2024-02-18T15:41:00.809Z"
      },
      {
        "duration": 276,
        "start_time": "2024-02-18T15:43:14.571Z"
      },
      {
        "duration": 149,
        "start_time": "2024-02-18T15:44:27.695Z"
      },
      {
        "duration": 139,
        "start_time": "2024-02-18T15:45:40.730Z"
      },
      {
        "duration": 148,
        "start_time": "2024-02-18T15:46:05.744Z"
      },
      {
        "duration": 158,
        "start_time": "2024-02-18T15:46:41.588Z"
      },
      {
        "duration": 194,
        "start_time": "2024-02-18T15:47:36.366Z"
      },
      {
        "duration": 435,
        "start_time": "2024-02-18T15:47:41.129Z"
      },
      {
        "duration": 190,
        "start_time": "2024-02-18T15:47:48.810Z"
      },
      {
        "duration": 159,
        "start_time": "2024-02-18T15:49:24.764Z"
      },
      {
        "duration": 172,
        "start_time": "2024-02-18T15:50:15.550Z"
      },
      {
        "duration": 184,
        "start_time": "2024-02-18T15:50:21.534Z"
      },
      {
        "duration": 156,
        "start_time": "2024-02-18T15:50:44.863Z"
      },
      {
        "duration": 154,
        "start_time": "2024-02-18T15:52:04.853Z"
      },
      {
        "duration": 26,
        "start_time": "2024-02-18T16:10:24.007Z"
      },
      {
        "duration": 5,
        "start_time": "2024-02-18T16:27:58.633Z"
      },
      {
        "duration": 6,
        "start_time": "2024-02-18T16:28:36.493Z"
      },
      {
        "duration": 10,
        "start_time": "2024-02-18T16:28:54.341Z"
      },
      {
        "duration": 4,
        "start_time": "2024-02-18T16:34:27.576Z"
      },
      {
        "duration": 3,
        "start_time": "2024-02-18T16:36:34.629Z"
      },
      {
        "duration": 6,
        "start_time": "2024-02-18T17:26:18.166Z"
      },
      {
        "duration": 3,
        "start_time": "2024-02-18T17:26:33.189Z"
      },
      {
        "duration": 71,
        "start_time": "2024-02-18T17:27:06.999Z"
      },
      {
        "duration": 2256,
        "start_time": "2024-02-18T18:07:38.287Z"
      },
      {
        "duration": 3,
        "start_time": "2024-02-18T18:07:40.545Z"
      },
      {
        "duration": 33,
        "start_time": "2024-02-18T18:07:40.551Z"
      },
      {
        "duration": 21,
        "start_time": "2024-02-18T18:07:40.586Z"
      },
      {
        "duration": 17,
        "start_time": "2024-02-18T18:07:40.610Z"
      },
      {
        "duration": 34,
        "start_time": "2024-02-18T18:07:40.630Z"
      },
      {
        "duration": 7,
        "start_time": "2024-02-18T18:07:40.682Z"
      },
      {
        "duration": 6,
        "start_time": "2024-02-18T18:07:40.691Z"
      },
      {
        "duration": 22,
        "start_time": "2024-02-18T18:07:40.699Z"
      },
      {
        "duration": 5,
        "start_time": "2024-02-18T18:07:40.723Z"
      },
      {
        "duration": 12,
        "start_time": "2024-02-18T18:07:40.730Z"
      },
      {
        "duration": 11,
        "start_time": "2024-02-18T18:07:40.744Z"
      },
      {
        "duration": 27,
        "start_time": "2024-02-18T18:07:40.757Z"
      },
      {
        "duration": 8,
        "start_time": "2024-02-18T18:07:40.787Z"
      },
      {
        "duration": 6,
        "start_time": "2024-02-18T18:07:40.797Z"
      },
      {
        "duration": 4,
        "start_time": "2024-02-18T18:07:40.805Z"
      },
      {
        "duration": 12,
        "start_time": "2024-02-18T18:07:40.811Z"
      },
      {
        "duration": 259,
        "start_time": "2024-02-18T18:07:40.825Z"
      },
      {
        "duration": 208,
        "start_time": "2024-02-18T18:07:41.086Z"
      },
      {
        "duration": 158,
        "start_time": "2024-02-18T18:07:41.296Z"
      },
      {
        "duration": 186,
        "start_time": "2024-02-18T18:07:41.456Z"
      },
      {
        "duration": 198,
        "start_time": "2024-02-18T18:07:41.645Z"
      },
      {
        "duration": 39,
        "start_time": "2024-02-18T18:07:41.845Z"
      },
      {
        "duration": 22,
        "start_time": "2024-02-18T18:07:41.886Z"
      },
      {
        "duration": 10,
        "start_time": "2024-02-18T18:07:41.910Z"
      },
      {
        "duration": 20,
        "start_time": "2024-02-18T18:07:41.922Z"
      },
      {
        "duration": 10,
        "start_time": "2024-02-18T18:07:41.944Z"
      },
      {
        "duration": 4,
        "start_time": "2024-02-18T18:07:41.956Z"
      },
      {
        "duration": 18,
        "start_time": "2024-02-18T18:07:41.962Z"
      },
      {
        "duration": 6,
        "start_time": "2024-02-18T18:07:41.982Z"
      },
      {
        "duration": 3,
        "start_time": "2024-02-18T18:07:41.990Z"
      },
      {
        "duration": 263,
        "start_time": "2024-02-18T18:07:41.995Z"
      },
      {
        "duration": 31,
        "start_time": "2024-02-18T18:07:55.751Z"
      },
      {
        "duration": 5,
        "start_time": "2024-02-18T18:17:26.171Z"
      },
      {
        "duration": 3,
        "start_time": "2024-02-18T18:17:27.834Z"
      },
      {
        "duration": 27,
        "start_time": "2024-02-18T18:17:41.543Z"
      },
      {
        "duration": 4,
        "start_time": "2024-02-18T18:18:04.659Z"
      },
      {
        "duration": 4,
        "start_time": "2024-02-18T18:18:09.765Z"
      },
      {
        "duration": 2,
        "start_time": "2024-02-18T18:18:11.381Z"
      },
      {
        "duration": 28,
        "start_time": "2024-02-18T18:18:11.986Z"
      },
      {
        "duration": 3,
        "start_time": "2024-02-18T18:53:59.731Z"
      },
      {
        "duration": 7,
        "start_time": "2024-02-18T18:54:00.897Z"
      },
      {
        "duration": 2,
        "start_time": "2024-02-18T18:54:01.752Z"
      },
      {
        "duration": 35,
        "start_time": "2024-02-18T18:54:02.493Z"
      },
      {
        "duration": 11,
        "start_time": "2024-02-18T18:54:10.805Z"
      },
      {
        "duration": 12,
        "start_time": "2024-02-18T18:54:11.285Z"
      },
      {
        "duration": 6,
        "start_time": "2024-02-18T18:54:11.694Z"
      },
      {
        "duration": 34,
        "start_time": "2024-02-18T18:54:11.867Z"
      },
      {
        "duration": 36,
        "start_time": "2024-02-18T18:59:40.377Z"
      },
      {
        "duration": 12,
        "start_time": "2024-02-18T19:07:01.194Z"
      },
      {
        "duration": 2006,
        "start_time": "2024-02-18T19:07:19.150Z"
      },
      {
        "duration": 3,
        "start_time": "2024-02-18T19:07:21.158Z"
      },
      {
        "duration": 57,
        "start_time": "2024-02-18T19:07:21.163Z"
      },
      {
        "duration": 17,
        "start_time": "2024-02-18T19:07:21.222Z"
      },
      {
        "duration": 26,
        "start_time": "2024-02-18T19:07:21.241Z"
      },
      {
        "duration": 47,
        "start_time": "2024-02-18T19:07:21.268Z"
      },
      {
        "duration": 6,
        "start_time": "2024-02-18T19:07:21.317Z"
      },
      {
        "duration": 31,
        "start_time": "2024-02-18T19:07:21.325Z"
      },
      {
        "duration": 37,
        "start_time": "2024-02-18T19:07:21.358Z"
      },
      {
        "duration": 15,
        "start_time": "2024-02-18T19:07:21.396Z"
      },
      {
        "duration": 19,
        "start_time": "2024-02-18T19:07:21.412Z"
      },
      {
        "duration": 12,
        "start_time": "2024-02-18T19:07:21.433Z"
      },
      {
        "duration": 20,
        "start_time": "2024-02-18T19:07:21.447Z"
      },
      {
        "duration": 26,
        "start_time": "2024-02-18T19:07:21.470Z"
      },
      {
        "duration": 13,
        "start_time": "2024-02-18T19:07:21.498Z"
      },
      {
        "duration": 21,
        "start_time": "2024-02-18T19:07:21.513Z"
      },
      {
        "duration": 40,
        "start_time": "2024-02-18T19:07:21.536Z"
      },
      {
        "duration": 178,
        "start_time": "2024-02-18T19:07:21.578Z"
      },
      {
        "duration": 166,
        "start_time": "2024-02-18T19:07:21.758Z"
      },
      {
        "duration": 173,
        "start_time": "2024-02-18T19:07:21.926Z"
      },
      {
        "duration": 203,
        "start_time": "2024-02-18T19:07:22.100Z"
      },
      {
        "duration": 165,
        "start_time": "2024-02-18T19:07:22.305Z"
      },
      {
        "duration": 39,
        "start_time": "2024-02-18T19:07:22.472Z"
      },
      {
        "duration": 23,
        "start_time": "2024-02-18T19:07:22.513Z"
      },
      {
        "duration": 8,
        "start_time": "2024-02-18T19:07:22.538Z"
      },
      {
        "duration": 16,
        "start_time": "2024-02-18T19:07:22.548Z"
      },
      {
        "duration": 36,
        "start_time": "2024-02-18T19:07:22.566Z"
      },
      {
        "duration": 140,
        "start_time": "2024-02-18T19:07:22.604Z"
      },
      {
        "duration": 0,
        "start_time": "2024-02-18T19:07:22.745Z"
      },
      {
        "duration": 0,
        "start_time": "2024-02-18T19:07:22.746Z"
      },
      {
        "duration": 0,
        "start_time": "2024-02-18T19:07:22.747Z"
      },
      {
        "duration": 0,
        "start_time": "2024-02-18T19:07:22.748Z"
      },
      {
        "duration": 4,
        "start_time": "2024-02-18T19:07:37.894Z"
      },
      {
        "duration": 5,
        "start_time": "2024-02-18T19:07:39.990Z"
      },
      {
        "duration": 5,
        "start_time": "2024-02-18T19:07:40.822Z"
      },
      {
        "duration": 4,
        "start_time": "2024-02-18T19:07:42.128Z"
      },
      {
        "duration": 29,
        "start_time": "2024-02-18T19:07:42.893Z"
      },
      {
        "duration": 2117,
        "start_time": "2024-02-18T19:11:10.371Z"
      },
      {
        "duration": 3,
        "start_time": "2024-02-18T19:11:12.494Z"
      },
      {
        "duration": 33,
        "start_time": "2024-02-18T19:11:12.499Z"
      },
      {
        "duration": 21,
        "start_time": "2024-02-18T19:11:12.534Z"
      },
      {
        "duration": 11,
        "start_time": "2024-02-18T19:11:12.557Z"
      },
      {
        "duration": 27,
        "start_time": "2024-02-18T19:11:12.570Z"
      },
      {
        "duration": 5,
        "start_time": "2024-02-18T19:11:12.599Z"
      },
      {
        "duration": 4,
        "start_time": "2024-02-18T19:11:12.606Z"
      },
      {
        "duration": 10,
        "start_time": "2024-02-18T19:11:12.612Z"
      },
      {
        "duration": 5,
        "start_time": "2024-02-18T19:11:12.623Z"
      },
      {
        "duration": 14,
        "start_time": "2024-02-18T19:11:12.630Z"
      },
      {
        "duration": 6,
        "start_time": "2024-02-18T19:11:12.645Z"
      },
      {
        "duration": 40,
        "start_time": "2024-02-18T19:11:12.652Z"
      },
      {
        "duration": 6,
        "start_time": "2024-02-18T19:11:12.697Z"
      },
      {
        "duration": 6,
        "start_time": "2024-02-18T19:11:12.705Z"
      },
      {
        "duration": 13,
        "start_time": "2024-02-18T19:11:12.712Z"
      },
      {
        "duration": 22,
        "start_time": "2024-02-18T19:11:12.726Z"
      },
      {
        "duration": 170,
        "start_time": "2024-02-18T19:11:12.750Z"
      },
      {
        "duration": 172,
        "start_time": "2024-02-18T19:11:12.922Z"
      },
      {
        "duration": 176,
        "start_time": "2024-02-18T19:11:13.096Z"
      },
      {
        "duration": 187,
        "start_time": "2024-02-18T19:11:13.274Z"
      },
      {
        "duration": 175,
        "start_time": "2024-02-18T19:11:13.463Z"
      },
      {
        "duration": 22,
        "start_time": "2024-02-18T19:11:13.640Z"
      },
      {
        "duration": 52,
        "start_time": "2024-02-18T19:11:13.664Z"
      },
      {
        "duration": 4,
        "start_time": "2024-02-18T19:11:13.717Z"
      },
      {
        "duration": 5,
        "start_time": "2024-02-18T19:11:13.723Z"
      },
      {
        "duration": 8,
        "start_time": "2024-02-18T19:11:13.730Z"
      },
      {
        "duration": 5,
        "start_time": "2024-02-18T19:11:13.740Z"
      },
      {
        "duration": 9,
        "start_time": "2024-02-18T19:11:13.747Z"
      },
      {
        "duration": 17,
        "start_time": "2024-02-18T19:11:13.758Z"
      },
      {
        "duration": 22,
        "start_time": "2024-02-18T19:11:13.776Z"
      },
      {
        "duration": 155,
        "start_time": "2024-02-18T19:11:13.800Z"
      },
      {
        "duration": 2049,
        "start_time": "2024-02-18T19:20:06.908Z"
      },
      {
        "duration": 3,
        "start_time": "2024-02-18T19:20:08.959Z"
      },
      {
        "duration": 31,
        "start_time": "2024-02-18T19:20:08.964Z"
      },
      {
        "duration": 20,
        "start_time": "2024-02-18T19:20:08.998Z"
      },
      {
        "duration": 11,
        "start_time": "2024-02-18T19:20:09.020Z"
      },
      {
        "duration": 24,
        "start_time": "2024-02-18T19:20:09.033Z"
      },
      {
        "duration": 6,
        "start_time": "2024-02-18T19:20:09.058Z"
      },
      {
        "duration": 27,
        "start_time": "2024-02-18T19:20:09.065Z"
      },
      {
        "duration": 10,
        "start_time": "2024-02-18T19:20:09.094Z"
      },
      {
        "duration": 6,
        "start_time": "2024-02-18T19:20:09.106Z"
      },
      {
        "duration": 11,
        "start_time": "2024-02-18T19:20:09.113Z"
      },
      {
        "duration": 7,
        "start_time": "2024-02-18T19:20:09.125Z"
      },
      {
        "duration": 8,
        "start_time": "2024-02-18T19:20:09.133Z"
      },
      {
        "duration": 6,
        "start_time": "2024-02-18T19:20:09.143Z"
      },
      {
        "duration": 10,
        "start_time": "2024-02-18T19:20:09.150Z"
      },
      {
        "duration": 31,
        "start_time": "2024-02-18T19:20:09.162Z"
      },
      {
        "duration": 6,
        "start_time": "2024-02-18T19:20:09.195Z"
      },
      {
        "duration": 161,
        "start_time": "2024-02-18T19:20:09.202Z"
      },
      {
        "duration": 165,
        "start_time": "2024-02-18T19:20:09.364Z"
      },
      {
        "duration": 162,
        "start_time": "2024-02-18T19:20:09.530Z"
      },
      {
        "duration": 184,
        "start_time": "2024-02-18T19:20:09.693Z"
      },
      {
        "duration": 178,
        "start_time": "2024-02-18T19:20:09.879Z"
      },
      {
        "duration": 41,
        "start_time": "2024-02-18T19:20:10.059Z"
      },
      {
        "duration": 12,
        "start_time": "2024-02-18T19:20:10.102Z"
      },
      {
        "duration": 24,
        "start_time": "2024-02-18T19:20:10.116Z"
      },
      {
        "duration": 4,
        "start_time": "2024-02-18T19:20:10.143Z"
      },
      {
        "duration": 7,
        "start_time": "2024-02-18T19:20:10.149Z"
      },
      {
        "duration": 29,
        "start_time": "2024-02-18T19:20:10.158Z"
      },
      {
        "duration": 7,
        "start_time": "2024-02-18T19:20:10.189Z"
      },
      {
        "duration": 5,
        "start_time": "2024-02-18T19:20:10.199Z"
      },
      {
        "duration": 13,
        "start_time": "2024-02-18T19:20:10.205Z"
      },
      {
        "duration": 3,
        "start_time": "2024-02-18T19:20:10.220Z"
      },
      {
        "duration": 170,
        "start_time": "2024-02-18T19:20:10.224Z"
      },
      {
        "duration": 3,
        "start_time": "2024-02-18T19:26:33.990Z"
      },
      {
        "duration": 4,
        "start_time": "2024-02-18T19:26:46.130Z"
      },
      {
        "duration": 8,
        "start_time": "2024-02-18T19:26:52.089Z"
      },
      {
        "duration": 3,
        "start_time": "2024-02-18T19:26:58.716Z"
      },
      {
        "duration": 12,
        "start_time": "2024-02-18T19:27:09.164Z"
      },
      {
        "duration": 4,
        "start_time": "2024-02-18T19:27:35.579Z"
      },
      {
        "duration": 14,
        "start_time": "2024-02-18T19:27:40.921Z"
      },
      {
        "duration": 3585,
        "start_time": "2024-02-18T19:28:19.838Z"
      },
      {
        "duration": 204,
        "start_time": "2024-02-18T19:28:34.572Z"
      },
      {
        "duration": 4,
        "start_time": "2024-02-18T19:33:29.145Z"
      },
      {
        "duration": 10,
        "start_time": "2024-02-18T19:34:14.412Z"
      },
      {
        "duration": 12,
        "start_time": "2024-02-18T19:34:19.917Z"
      },
      {
        "duration": 4,
        "start_time": "2024-02-18T19:34:46.185Z"
      },
      {
        "duration": 5,
        "start_time": "2024-02-18T19:34:51.034Z"
      },
      {
        "duration": 10,
        "start_time": "2024-02-18T19:35:01.493Z"
      },
      {
        "duration": 3,
        "start_time": "2024-02-18T19:35:08.322Z"
      },
      {
        "duration": 3,
        "start_time": "2024-02-18T19:35:12.168Z"
      },
      {
        "duration": 5,
        "start_time": "2024-02-18T19:35:16.920Z"
      },
      {
        "duration": 3,
        "start_time": "2024-02-18T19:35:23.824Z"
      },
      {
        "duration": 34,
        "start_time": "2024-02-18T19:35:29.959Z"
      },
      {
        "duration": 3,
        "start_time": "2024-02-18T19:36:13.270Z"
      },
      {
        "duration": 5,
        "start_time": "2024-02-18T19:37:36.923Z"
      },
      {
        "duration": 35,
        "start_time": "2024-02-18T19:38:52.802Z"
      },
      {
        "duration": 23,
        "start_time": "2024-02-18T19:39:13.831Z"
      },
      {
        "duration": 23,
        "start_time": "2024-02-18T19:39:25.302Z"
      },
      {
        "duration": 3,
        "start_time": "2024-02-18T19:39:53.095Z"
      },
      {
        "duration": 8,
        "start_time": "2024-02-18T19:39:54.899Z"
      },
      {
        "duration": 12,
        "start_time": "2024-02-18T19:39:55.438Z"
      },
      {
        "duration": 4,
        "start_time": "2024-02-18T19:39:59.507Z"
      },
      {
        "duration": 5,
        "start_time": "2024-02-18T19:39:59.893Z"
      },
      {
        "duration": 25,
        "start_time": "2024-02-18T19:40:00.435Z"
      },
      {
        "duration": 24,
        "start_time": "2024-02-18T19:47:42.894Z"
      },
      {
        "duration": 23,
        "start_time": "2024-02-18T19:47:57.242Z"
      },
      {
        "duration": 25,
        "start_time": "2024-02-18T19:48:59.742Z"
      },
      {
        "duration": 5515,
        "start_time": "2024-02-18T19:49:22.002Z"
      },
      {
        "duration": 2,
        "start_time": "2024-02-18T19:49:27.519Z"
      },
      {
        "duration": 32,
        "start_time": "2024-02-18T19:49:27.523Z"
      },
      {
        "duration": 16,
        "start_time": "2024-02-18T19:49:27.556Z"
      },
      {
        "duration": 14,
        "start_time": "2024-02-18T19:49:27.574Z"
      },
      {
        "duration": 22,
        "start_time": "2024-02-18T19:49:27.590Z"
      },
      {
        "duration": 5,
        "start_time": "2024-02-18T19:49:27.614Z"
      },
      {
        "duration": 5,
        "start_time": "2024-02-18T19:49:27.620Z"
      },
      {
        "duration": 18,
        "start_time": "2024-02-18T19:49:27.627Z"
      },
      {
        "duration": 4,
        "start_time": "2024-02-18T19:49:27.646Z"
      },
      {
        "duration": 34,
        "start_time": "2024-02-18T19:49:27.651Z"
      },
      {
        "duration": 10,
        "start_time": "2024-02-18T19:49:27.687Z"
      },
      {
        "duration": 7,
        "start_time": "2024-02-18T19:49:27.698Z"
      },
      {
        "duration": 6,
        "start_time": "2024-02-18T19:49:27.707Z"
      },
      {
        "duration": 5,
        "start_time": "2024-02-18T19:49:27.714Z"
      },
      {
        "duration": 5,
        "start_time": "2024-02-18T19:49:27.720Z"
      },
      {
        "duration": 7,
        "start_time": "2024-02-18T19:49:27.726Z"
      },
      {
        "duration": 188,
        "start_time": "2024-02-18T19:49:27.734Z"
      },
      {
        "duration": 167,
        "start_time": "2024-02-18T19:49:27.924Z"
      },
      {
        "duration": 174,
        "start_time": "2024-02-18T19:49:28.094Z"
      },
      {
        "duration": 188,
        "start_time": "2024-02-18T19:49:28.270Z"
      },
      {
        "duration": 177,
        "start_time": "2024-02-18T19:49:28.460Z"
      },
      {
        "duration": 24,
        "start_time": "2024-02-18T19:49:28.639Z"
      },
      {
        "duration": 386,
        "start_time": "2024-02-18T19:49:28.665Z"
      },
      {
        "duration": 7,
        "start_time": "2024-02-18T19:50:09.659Z"
      },
      {
        "duration": 10,
        "start_time": "2024-02-18T19:50:10.138Z"
      },
      {
        "duration": 8,
        "start_time": "2024-02-18T19:51:31.162Z"
      },
      {
        "duration": 5394,
        "start_time": "2024-02-18T19:51:57.955Z"
      },
      {
        "duration": 3,
        "start_time": "2024-02-18T19:52:03.351Z"
      },
      {
        "duration": 30,
        "start_time": "2024-02-18T19:52:03.355Z"
      },
      {
        "duration": 18,
        "start_time": "2024-02-18T19:52:03.386Z"
      },
      {
        "duration": 11,
        "start_time": "2024-02-18T19:52:03.407Z"
      },
      {
        "duration": 24,
        "start_time": "2024-02-18T19:52:03.420Z"
      },
      {
        "duration": 6,
        "start_time": "2024-02-18T19:52:03.445Z"
      },
      {
        "duration": 5,
        "start_time": "2024-02-18T19:52:03.479Z"
      },
      {
        "duration": 28,
        "start_time": "2024-02-18T19:52:03.485Z"
      },
      {
        "duration": 5,
        "start_time": "2024-02-18T19:52:03.515Z"
      },
      {
        "duration": 10,
        "start_time": "2024-02-18T19:52:03.521Z"
      },
      {
        "duration": 11,
        "start_time": "2024-02-18T19:52:03.532Z"
      },
      {
        "duration": 8,
        "start_time": "2024-02-18T19:52:03.544Z"
      },
      {
        "duration": 6,
        "start_time": "2024-02-18T19:52:03.555Z"
      },
      {
        "duration": 4,
        "start_time": "2024-02-18T19:52:03.562Z"
      },
      {
        "duration": 13,
        "start_time": "2024-02-18T19:52:03.567Z"
      },
      {
        "duration": 12,
        "start_time": "2024-02-18T19:52:03.582Z"
      },
      {
        "duration": 166,
        "start_time": "2024-02-18T19:52:03.596Z"
      },
      {
        "duration": 153,
        "start_time": "2024-02-18T19:52:03.764Z"
      },
      {
        "duration": 151,
        "start_time": "2024-02-18T19:52:03.919Z"
      },
      {
        "duration": 172,
        "start_time": "2024-02-18T19:52:04.071Z"
      },
      {
        "duration": 166,
        "start_time": "2024-02-18T19:52:04.246Z"
      },
      {
        "duration": 23,
        "start_time": "2024-02-18T19:52:04.414Z"
      },
      {
        "duration": 17,
        "start_time": "2024-02-18T19:52:04.439Z"
      },
      {
        "duration": 26,
        "start_time": "2024-02-18T19:52:04.458Z"
      },
      {
        "duration": 5,
        "start_time": "2024-02-18T19:52:04.486Z"
      },
      {
        "duration": 333,
        "start_time": "2024-02-18T19:52:14.320Z"
      },
      {
        "duration": 5,
        "start_time": "2024-02-18T19:52:28.546Z"
      },
      {
        "duration": 8,
        "start_time": "2024-02-18T19:53:12.413Z"
      },
      {
        "duration": 23,
        "start_time": "2024-02-18T19:53:26.918Z"
      },
      {
        "duration": 18,
        "start_time": "2024-02-18T19:56:04.325Z"
      },
      {
        "duration": 18,
        "start_time": "2024-02-18T19:56:18.909Z"
      },
      {
        "duration": 4,
        "start_time": "2024-02-18T19:57:34.703Z"
      },
      {
        "duration": 4,
        "start_time": "2024-02-18T19:58:02.044Z"
      },
      {
        "duration": 4,
        "start_time": "2024-02-18T19:58:08.790Z"
      },
      {
        "duration": 5,
        "start_time": "2024-02-18T19:58:13.686Z"
      },
      {
        "duration": 8,
        "start_time": "2024-02-18T19:58:22.110Z"
      },
      {
        "duration": 14,
        "start_time": "2024-02-18T19:58:46.774Z"
      },
      {
        "duration": 5,
        "start_time": "2024-02-18T19:58:53.704Z"
      },
      {
        "duration": 43781,
        "start_time": "2024-02-18T19:59:13.804Z"
      },
      {
        "duration": 254,
        "start_time": "2024-02-18T19:59:57.587Z"
      },
      {
        "duration": 38693,
        "start_time": "2024-02-18T20:00:37.346Z"
      },
      {
        "duration": 235,
        "start_time": "2024-02-18T20:01:16.041Z"
      },
      {
        "duration": 97619,
        "start_time": "2024-02-18T20:01:16.279Z"
      },
      {
        "duration": 291,
        "start_time": "2024-02-18T20:02:53.900Z"
      },
      {
        "duration": 39358,
        "start_time": "2024-02-18T20:02:54.193Z"
      },
      {
        "duration": 233,
        "start_time": "2024-02-18T20:03:33.553Z"
      },
      {
        "duration": 458,
        "start_time": "2024-02-18T20:03:33.788Z"
      },
      {
        "duration": 5,
        "start_time": "2024-02-18T20:07:59.494Z"
      },
      {
        "duration": 221,
        "start_time": "2024-02-18T20:08:05.318Z"
      },
      {
        "duration": 5,
        "start_time": "2024-02-18T20:08:24.349Z"
      },
      {
        "duration": 222,
        "start_time": "2024-02-18T20:08:27.128Z"
      },
      {
        "duration": 6,
        "start_time": "2024-02-18T20:09:38.766Z"
      },
      {
        "duration": 224,
        "start_time": "2024-02-18T20:09:42.191Z"
      },
      {
        "duration": 5,
        "start_time": "2024-02-18T20:10:12.275Z"
      },
      {
        "duration": 150,
        "start_time": "2024-02-18T20:10:15.812Z"
      },
      {
        "duration": 5,
        "start_time": "2024-02-18T20:11:13.953Z"
      },
      {
        "duration": 227,
        "start_time": "2024-02-18T20:11:18.094Z"
      },
      {
        "duration": 5,
        "start_time": "2024-02-18T20:12:08.620Z"
      },
      {
        "duration": 466,
        "start_time": "2024-02-18T20:12:11.551Z"
      },
      {
        "duration": 5573,
        "start_time": "2024-02-18T20:12:27.361Z"
      },
      {
        "duration": 3,
        "start_time": "2024-02-18T20:12:32.936Z"
      },
      {
        "duration": 30,
        "start_time": "2024-02-18T20:12:32.940Z"
      },
      {
        "duration": 18,
        "start_time": "2024-02-18T20:12:32.972Z"
      },
      {
        "duration": 15,
        "start_time": "2024-02-18T20:12:32.992Z"
      },
      {
        "duration": 38,
        "start_time": "2024-02-18T20:12:33.008Z"
      },
      {
        "duration": 7,
        "start_time": "2024-02-18T20:12:33.048Z"
      },
      {
        "duration": 4,
        "start_time": "2024-02-18T20:12:33.057Z"
      },
      {
        "duration": 10,
        "start_time": "2024-02-18T20:12:33.079Z"
      },
      {
        "duration": 4,
        "start_time": "2024-02-18T20:12:33.091Z"
      },
      {
        "duration": 6,
        "start_time": "2024-02-18T20:12:33.097Z"
      },
      {
        "duration": 8,
        "start_time": "2024-02-18T20:12:33.104Z"
      },
      {
        "duration": 10,
        "start_time": "2024-02-18T20:12:33.113Z"
      },
      {
        "duration": 5,
        "start_time": "2024-02-18T20:12:33.126Z"
      },
      {
        "duration": 4,
        "start_time": "2024-02-18T20:12:33.133Z"
      },
      {
        "duration": 41,
        "start_time": "2024-02-18T20:12:33.139Z"
      },
      {
        "duration": 8,
        "start_time": "2024-02-18T20:12:33.182Z"
      },
      {
        "duration": 156,
        "start_time": "2024-02-18T20:12:33.191Z"
      },
      {
        "duration": 160,
        "start_time": "2024-02-18T20:12:33.348Z"
      },
      {
        "duration": 152,
        "start_time": "2024-02-18T20:12:33.510Z"
      },
      {
        "duration": 166,
        "start_time": "2024-02-18T20:12:33.663Z"
      },
      {
        "duration": 166,
        "start_time": "2024-02-18T20:12:33.831Z"
      },
      {
        "duration": 23,
        "start_time": "2024-02-18T20:12:33.999Z"
      },
      {
        "duration": 7,
        "start_time": "2024-02-18T20:12:34.024Z"
      },
      {
        "duration": 12,
        "start_time": "2024-02-18T20:12:34.032Z"
      },
      {
        "duration": 4,
        "start_time": "2024-02-18T20:12:34.046Z"
      },
      {
        "duration": 30,
        "start_time": "2024-02-18T20:12:34.051Z"
      },
      {
        "duration": 10,
        "start_time": "2024-02-18T20:12:34.083Z"
      },
      {
        "duration": 4,
        "start_time": "2024-02-18T20:12:34.095Z"
      },
      {
        "duration": 5,
        "start_time": "2024-02-18T20:12:34.100Z"
      },
      {
        "duration": 20,
        "start_time": "2024-02-18T20:12:34.106Z"
      },
      {
        "duration": 5,
        "start_time": "2024-02-18T20:12:34.127Z"
      },
      {
        "duration": 10,
        "start_time": "2024-02-18T20:12:34.134Z"
      },
      {
        "duration": 7,
        "start_time": "2024-02-18T20:12:34.146Z"
      },
      {
        "duration": 27,
        "start_time": "2024-02-18T20:12:34.154Z"
      },
      {
        "duration": 46007,
        "start_time": "2024-02-18T20:12:34.183Z"
      },
      {
        "duration": 248,
        "start_time": "2024-02-18T20:13:20.192Z"
      },
      {
        "duration": 39387,
        "start_time": "2024-02-18T20:13:20.442Z"
      },
      {
        "duration": 228,
        "start_time": "2024-02-18T20:13:59.831Z"
      },
      {
        "duration": 94533,
        "start_time": "2024-02-18T20:14:00.060Z"
      },
      {
        "duration": 273,
        "start_time": "2024-02-18T20:15:34.597Z"
      },
      {
        "duration": 40179,
        "start_time": "2024-02-18T20:15:34.872Z"
      },
      {
        "duration": 232,
        "start_time": "2024-02-18T20:16:15.053Z"
      },
      {
        "duration": 462,
        "start_time": "2024-02-18T20:16:15.287Z"
      },
      {
        "duration": 5529,
        "start_time": "2024-02-18T20:23:53.612Z"
      },
      {
        "duration": 3,
        "start_time": "2024-02-18T20:23:59.143Z"
      },
      {
        "duration": 32,
        "start_time": "2024-02-18T20:23:59.147Z"
      },
      {
        "duration": 18,
        "start_time": "2024-02-18T20:23:59.193Z"
      },
      {
        "duration": 11,
        "start_time": "2024-02-18T20:23:59.212Z"
      },
      {
        "duration": 30,
        "start_time": "2024-02-18T20:23:59.225Z"
      },
      {
        "duration": 6,
        "start_time": "2024-02-18T20:23:59.256Z"
      },
      {
        "duration": 6,
        "start_time": "2024-02-18T20:23:59.263Z"
      },
      {
        "duration": 17,
        "start_time": "2024-02-18T20:23:59.284Z"
      },
      {
        "duration": 7,
        "start_time": "2024-02-18T20:23:59.303Z"
      },
      {
        "duration": 12,
        "start_time": "2024-02-18T20:23:59.311Z"
      },
      {
        "duration": 9,
        "start_time": "2024-02-18T20:23:59.324Z"
      },
      {
        "duration": 6,
        "start_time": "2024-02-18T20:23:59.335Z"
      },
      {
        "duration": 12,
        "start_time": "2024-02-18T20:23:59.345Z"
      },
      {
        "duration": 4,
        "start_time": "2024-02-18T20:23:59.358Z"
      },
      {
        "duration": 20,
        "start_time": "2024-02-18T20:23:59.364Z"
      },
      {
        "duration": 12,
        "start_time": "2024-02-18T20:23:59.386Z"
      },
      {
        "duration": 164,
        "start_time": "2024-02-18T20:23:59.400Z"
      },
      {
        "duration": 163,
        "start_time": "2024-02-18T20:23:59.565Z"
      },
      {
        "duration": 169,
        "start_time": "2024-02-18T20:23:59.730Z"
      },
      {
        "duration": 177,
        "start_time": "2024-02-18T20:23:59.900Z"
      },
      {
        "duration": 171,
        "start_time": "2024-02-18T20:24:00.078Z"
      },
      {
        "duration": 42,
        "start_time": "2024-02-18T20:24:00.251Z"
      },
      {
        "duration": 97,
        "start_time": "2024-02-18T20:24:00.295Z"
      },
      {
        "duration": 46,
        "start_time": "2024-02-18T20:24:00.394Z"
      },
      {
        "duration": 33,
        "start_time": "2024-02-18T20:24:00.442Z"
      },
      {
        "duration": 36,
        "start_time": "2024-02-18T20:24:00.477Z"
      },
      {
        "duration": 49,
        "start_time": "2024-02-18T20:24:00.515Z"
      },
      {
        "duration": 29,
        "start_time": "2024-02-18T20:24:00.566Z"
      },
      {
        "duration": 27,
        "start_time": "2024-02-18T20:24:00.596Z"
      },
      {
        "duration": 42,
        "start_time": "2024-02-18T20:24:00.625Z"
      },
      {
        "duration": 33,
        "start_time": "2024-02-18T20:24:00.669Z"
      },
      {
        "duration": 42,
        "start_time": "2024-02-18T20:24:00.703Z"
      },
      {
        "duration": 54,
        "start_time": "2024-02-18T20:24:00.747Z"
      },
      {
        "duration": 43,
        "start_time": "2024-02-18T20:24:00.802Z"
      },
      {
        "duration": 56753,
        "start_time": "2024-02-18T20:24:00.847Z"
      },
      {
        "duration": 286,
        "start_time": "2024-02-18T20:24:57.602Z"
      },
      {
        "duration": 40502,
        "start_time": "2024-02-18T20:24:57.894Z"
      },
      {
        "duration": 241,
        "start_time": "2024-02-18T20:25:38.398Z"
      },
      {
        "duration": 377,
        "start_time": "2024-02-18T20:25:38.640Z"
      },
      {
        "duration": 0,
        "start_time": "2024-02-18T20:25:39.019Z"
      },
      {
        "duration": 0,
        "start_time": "2024-02-18T20:25:39.020Z"
      },
      {
        "duration": 0,
        "start_time": "2024-02-18T20:25:39.021Z"
      },
      {
        "duration": 0,
        "start_time": "2024-02-18T20:25:39.022Z"
      },
      {
        "duration": 133576,
        "start_time": "2024-02-18T20:27:57.505Z"
      },
      {
        "duration": 236,
        "start_time": "2024-02-18T20:30:11.089Z"
      },
      {
        "duration": 41318,
        "start_time": "2024-02-18T20:30:11.327Z"
      },
      {
        "duration": 238,
        "start_time": "2024-02-18T20:30:52.647Z"
      },
      {
        "duration": 461,
        "start_time": "2024-02-18T20:30:52.886Z"
      },
      {
        "duration": 17371,
        "start_time": "2024-02-18T20:36:20.507Z"
      },
      {
        "duration": 10,
        "start_time": "2024-02-18T20:36:37.880Z"
      },
      {
        "duration": 48,
        "start_time": "2024-02-18T20:36:37.894Z"
      },
      {
        "duration": 25,
        "start_time": "2024-02-18T20:36:37.944Z"
      },
      {
        "duration": 22,
        "start_time": "2024-02-18T20:36:37.973Z"
      },
      {
        "duration": 24,
        "start_time": "2024-02-18T20:36:37.996Z"
      },
      {
        "duration": 16,
        "start_time": "2024-02-18T20:36:38.022Z"
      },
      {
        "duration": 4,
        "start_time": "2024-02-18T20:36:38.040Z"
      },
      {
        "duration": 13,
        "start_time": "2024-02-18T20:36:38.046Z"
      },
      {
        "duration": 5,
        "start_time": "2024-02-18T20:36:38.061Z"
      },
      {
        "duration": 14,
        "start_time": "2024-02-18T20:36:38.080Z"
      },
      {
        "duration": 6,
        "start_time": "2024-02-18T20:36:38.098Z"
      },
      {
        "duration": 8,
        "start_time": "2024-02-18T20:36:38.105Z"
      },
      {
        "duration": 7,
        "start_time": "2024-02-18T20:36:38.116Z"
      },
      {
        "duration": 4,
        "start_time": "2024-02-18T20:36:38.124Z"
      },
      {
        "duration": 5,
        "start_time": "2024-02-18T20:36:38.129Z"
      },
      {
        "duration": 7,
        "start_time": "2024-02-18T20:36:38.135Z"
      },
      {
        "duration": 196,
        "start_time": "2024-02-18T20:36:38.143Z"
      },
      {
        "duration": 181,
        "start_time": "2024-02-18T20:36:38.342Z"
      },
      {
        "duration": 169,
        "start_time": "2024-02-18T20:36:38.525Z"
      },
      {
        "duration": 200,
        "start_time": "2024-02-18T20:36:38.699Z"
      },
      {
        "duration": 186,
        "start_time": "2024-02-18T20:36:38.901Z"
      },
      {
        "duration": 27,
        "start_time": "2024-02-18T20:36:39.089Z"
      },
      {
        "duration": 8,
        "start_time": "2024-02-18T20:36:39.118Z"
      },
      {
        "duration": 14,
        "start_time": "2024-02-18T20:36:39.127Z"
      },
      {
        "duration": 45,
        "start_time": "2024-02-18T20:36:39.143Z"
      },
      {
        "duration": 7,
        "start_time": "2024-02-18T20:36:39.190Z"
      },
      {
        "duration": 12,
        "start_time": "2024-02-18T20:36:39.198Z"
      },
      {
        "duration": 4,
        "start_time": "2024-02-18T20:36:39.212Z"
      },
      {
        "duration": 5,
        "start_time": "2024-02-18T20:36:39.217Z"
      },
      {
        "duration": 6,
        "start_time": "2024-02-18T20:36:39.223Z"
      },
      {
        "duration": 6,
        "start_time": "2024-02-18T20:36:39.231Z"
      },
      {
        "duration": 5,
        "start_time": "2024-02-18T20:36:39.239Z"
      },
      {
        "duration": 7,
        "start_time": "2024-02-18T20:36:39.246Z"
      },
      {
        "duration": 37,
        "start_time": "2024-02-18T20:36:39.254Z"
      },
      {
        "duration": 58106,
        "start_time": "2024-02-18T20:36:39.293Z"
      },
      {
        "duration": 249,
        "start_time": "2024-02-18T20:37:37.402Z"
      },
      {
        "duration": 38401,
        "start_time": "2024-02-18T20:37:37.653Z"
      },
      {
        "duration": 244,
        "start_time": "2024-02-18T20:38:16.056Z"
      },
      {
        "duration": 139106,
        "start_time": "2024-02-18T20:38:16.302Z"
      },
      {
        "duration": 306,
        "start_time": "2024-02-18T20:40:35.412Z"
      },
      {
        "duration": 39238,
        "start_time": "2024-02-18T20:40:35.720Z"
      },
      {
        "duration": 249,
        "start_time": "2024-02-18T20:41:14.960Z"
      },
      {
        "duration": 551,
        "start_time": "2024-02-18T20:41:15.210Z"
      },
      {
        "duration": 126,
        "start_time": "2024-02-18T21:18:09.245Z"
      },
      {
        "duration": 14907,
        "start_time": "2024-02-18T21:28:51.595Z"
      },
      {
        "duration": 3,
        "start_time": "2024-02-18T21:29:06.505Z"
      },
      {
        "duration": 36,
        "start_time": "2024-02-18T21:29:06.510Z"
      },
      {
        "duration": 18,
        "start_time": "2024-02-18T21:29:06.548Z"
      },
      {
        "duration": 14,
        "start_time": "2024-02-18T21:29:06.568Z"
      },
      {
        "duration": 25,
        "start_time": "2024-02-18T21:29:06.584Z"
      },
      {
        "duration": 6,
        "start_time": "2024-02-18T21:29:06.611Z"
      },
      {
        "duration": 10,
        "start_time": "2024-02-18T21:29:06.619Z"
      },
      {
        "duration": 17,
        "start_time": "2024-02-18T21:29:06.631Z"
      },
      {
        "duration": 31,
        "start_time": "2024-02-18T21:29:06.650Z"
      },
      {
        "duration": 16,
        "start_time": "2024-02-18T21:29:06.683Z"
      },
      {
        "duration": 6,
        "start_time": "2024-02-18T21:29:06.701Z"
      },
      {
        "duration": 6,
        "start_time": "2024-02-18T21:29:06.708Z"
      },
      {
        "duration": 15,
        "start_time": "2024-02-18T21:29:06.717Z"
      },
      {
        "duration": 4,
        "start_time": "2024-02-18T21:29:06.733Z"
      },
      {
        "duration": 5,
        "start_time": "2024-02-18T21:29:06.738Z"
      },
      {
        "duration": 8,
        "start_time": "2024-02-18T21:29:06.744Z"
      },
      {
        "duration": 176,
        "start_time": "2024-02-18T21:29:06.753Z"
      },
      {
        "duration": 159,
        "start_time": "2024-02-18T21:29:06.931Z"
      },
      {
        "duration": 150,
        "start_time": "2024-02-18T21:29:07.092Z"
      },
      {
        "duration": 178,
        "start_time": "2024-02-18T21:29:07.244Z"
      },
      {
        "duration": 163,
        "start_time": "2024-02-18T21:29:07.424Z"
      },
      {
        "duration": 23,
        "start_time": "2024-02-18T21:29:07.589Z"
      },
      {
        "duration": 7,
        "start_time": "2024-02-18T21:29:07.613Z"
      },
      {
        "duration": 12,
        "start_time": "2024-02-18T21:29:07.622Z"
      },
      {
        "duration": 4,
        "start_time": "2024-02-18T21:29:07.636Z"
      },
      {
        "duration": 38,
        "start_time": "2024-02-18T21:29:07.642Z"
      },
      {
        "duration": 10,
        "start_time": "2024-02-18T21:29:07.682Z"
      },
      {
        "duration": 5,
        "start_time": "2024-02-18T21:29:07.694Z"
      },
      {
        "duration": 5,
        "start_time": "2024-02-18T21:29:07.701Z"
      },
      {
        "duration": 9,
        "start_time": "2024-02-18T21:29:07.708Z"
      },
      {
        "duration": 5,
        "start_time": "2024-02-18T21:29:07.719Z"
      },
      {
        "duration": 5,
        "start_time": "2024-02-18T21:29:07.725Z"
      },
      {
        "duration": 7,
        "start_time": "2024-02-18T21:29:07.732Z"
      },
      {
        "duration": 6,
        "start_time": "2024-02-18T21:29:07.780Z"
      },
      {
        "duration": 43201,
        "start_time": "2024-02-18T21:29:07.788Z"
      },
      {
        "duration": 263,
        "start_time": "2024-02-18T21:29:50.991Z"
      },
      {
        "duration": 36872,
        "start_time": "2024-02-18T21:29:51.256Z"
      },
      {
        "duration": 226,
        "start_time": "2024-02-18T21:30:28.130Z"
      },
      {
        "duration": 96423,
        "start_time": "2024-02-18T21:30:28.358Z"
      },
      {
        "duration": 219,
        "start_time": "2024-02-18T21:32:04.785Z"
      },
      {
        "duration": 37632,
        "start_time": "2024-02-18T21:32:05.005Z"
      },
      {
        "duration": 368,
        "start_time": "2024-02-18T21:32:42.639Z"
      },
      {
        "duration": 546,
        "start_time": "2024-02-18T21:32:43.009Z"
      },
      {
        "duration": 14843,
        "start_time": "2024-02-18T21:35:30.720Z"
      },
      {
        "duration": 4,
        "start_time": "2024-02-18T21:35:45.565Z"
      },
      {
        "duration": 39,
        "start_time": "2024-02-18T21:35:45.573Z"
      },
      {
        "duration": 17,
        "start_time": "2024-02-18T21:35:45.615Z"
      },
      {
        "duration": 12,
        "start_time": "2024-02-18T21:35:45.634Z"
      },
      {
        "duration": 37,
        "start_time": "2024-02-18T21:35:45.648Z"
      },
      {
        "duration": 6,
        "start_time": "2024-02-18T21:35:45.686Z"
      },
      {
        "duration": 3,
        "start_time": "2024-02-18T21:35:45.694Z"
      },
      {
        "duration": 14,
        "start_time": "2024-02-18T21:35:45.699Z"
      },
      {
        "duration": 8,
        "start_time": "2024-02-18T21:35:45.715Z"
      },
      {
        "duration": 8,
        "start_time": "2024-02-18T21:35:45.725Z"
      },
      {
        "duration": 7,
        "start_time": "2024-02-18T21:35:45.734Z"
      },
      {
        "duration": 37,
        "start_time": "2024-02-18T21:35:45.745Z"
      },
      {
        "duration": 18,
        "start_time": "2024-02-18T21:35:45.784Z"
      },
      {
        "duration": 7,
        "start_time": "2024-02-18T21:35:45.804Z"
      },
      {
        "duration": 7,
        "start_time": "2024-02-18T21:35:45.813Z"
      },
      {
        "duration": 8,
        "start_time": "2024-02-18T21:35:45.821Z"
      },
      {
        "duration": 163,
        "start_time": "2024-02-18T21:35:45.831Z"
      },
      {
        "duration": 158,
        "start_time": "2024-02-18T21:35:45.996Z"
      },
      {
        "duration": 142,
        "start_time": "2024-02-18T21:35:46.156Z"
      },
      {
        "duration": 168,
        "start_time": "2024-02-18T21:35:46.299Z"
      },
      {
        "duration": 160,
        "start_time": "2024-02-18T21:35:46.469Z"
      },
      {
        "duration": 24,
        "start_time": "2024-02-18T21:35:46.631Z"
      },
      {
        "duration": 23,
        "start_time": "2024-02-18T21:35:46.657Z"
      },
      {
        "duration": 12,
        "start_time": "2024-02-18T21:35:46.682Z"
      },
      {
        "duration": 5,
        "start_time": "2024-02-18T21:35:46.695Z"
      },
      {
        "duration": 7,
        "start_time": "2024-02-18T21:35:46.701Z"
      },
      {
        "duration": 10,
        "start_time": "2024-02-18T21:35:46.709Z"
      },
      {
        "duration": 4,
        "start_time": "2024-02-18T21:35:46.720Z"
      },
      {
        "duration": 4,
        "start_time": "2024-02-18T21:35:46.725Z"
      },
      {
        "duration": 5,
        "start_time": "2024-02-18T21:35:46.731Z"
      },
      {
        "duration": 45,
        "start_time": "2024-02-18T21:35:46.737Z"
      },
      {
        "duration": 8,
        "start_time": "2024-02-18T21:35:46.783Z"
      },
      {
        "duration": 6,
        "start_time": "2024-02-18T21:35:46.792Z"
      },
      {
        "duration": 7,
        "start_time": "2024-02-18T21:35:46.800Z"
      },
      {
        "duration": 48889,
        "start_time": "2024-02-18T21:35:46.809Z"
      },
      {
        "duration": 296,
        "start_time": "2024-02-18T21:36:35.700Z"
      },
      {
        "duration": 37695,
        "start_time": "2024-02-18T21:36:35.998Z"
      },
      {
        "duration": 222,
        "start_time": "2024-02-18T21:37:13.694Z"
      },
      {
        "duration": 94366,
        "start_time": "2024-02-18T21:37:13.919Z"
      },
      {
        "duration": 246,
        "start_time": "2024-02-18T21:38:48.287Z"
      },
      {
        "duration": 39419,
        "start_time": "2024-02-18T21:38:48.535Z"
      },
      {
        "duration": 213,
        "start_time": "2024-02-18T21:39:27.955Z"
      },
      {
        "duration": 458,
        "start_time": "2024-02-18T21:39:28.169Z"
      },
      {
        "duration": 15664,
        "start_time": "2024-02-18T21:41:22.973Z"
      },
      {
        "duration": 3,
        "start_time": "2024-02-18T21:41:38.639Z"
      },
      {
        "duration": 32,
        "start_time": "2024-02-18T21:41:38.644Z"
      },
      {
        "duration": 26,
        "start_time": "2024-02-18T21:41:38.678Z"
      },
      {
        "duration": 16,
        "start_time": "2024-02-18T21:41:38.707Z"
      },
      {
        "duration": 25,
        "start_time": "2024-02-18T21:41:38.726Z"
      },
      {
        "duration": 33,
        "start_time": "2024-02-18T21:41:38.753Z"
      },
      {
        "duration": 5,
        "start_time": "2024-02-18T21:41:38.788Z"
      },
      {
        "duration": 15,
        "start_time": "2024-02-18T21:41:38.795Z"
      },
      {
        "duration": 8,
        "start_time": "2024-02-18T21:41:38.812Z"
      },
      {
        "duration": 7,
        "start_time": "2024-02-18T21:41:38.822Z"
      },
      {
        "duration": 8,
        "start_time": "2024-02-18T21:41:38.830Z"
      },
      {
        "duration": 7,
        "start_time": "2024-02-18T21:41:38.840Z"
      },
      {
        "duration": 7,
        "start_time": "2024-02-18T21:41:38.884Z"
      },
      {
        "duration": 14,
        "start_time": "2024-02-18T21:41:38.893Z"
      },
      {
        "duration": 4,
        "start_time": "2024-02-18T21:41:38.912Z"
      },
      {
        "duration": 10,
        "start_time": "2024-02-18T21:41:38.918Z"
      },
      {
        "duration": 181,
        "start_time": "2024-02-18T21:41:38.929Z"
      },
      {
        "duration": 173,
        "start_time": "2024-02-18T21:41:39.112Z"
      },
      {
        "duration": 177,
        "start_time": "2024-02-18T21:41:39.287Z"
      },
      {
        "duration": 195,
        "start_time": "2024-02-18T21:41:39.466Z"
      },
      {
        "duration": 200,
        "start_time": "2024-02-18T21:41:39.663Z"
      },
      {
        "duration": 43,
        "start_time": "2024-02-18T21:41:39.864Z"
      },
      {
        "duration": 10,
        "start_time": "2024-02-18T21:41:39.910Z"
      },
      {
        "duration": 17,
        "start_time": "2024-02-18T21:41:39.922Z"
      },
      {
        "duration": 5,
        "start_time": "2024-02-18T21:41:39.941Z"
      },
      {
        "duration": 10,
        "start_time": "2024-02-18T21:41:39.947Z"
      },
      {
        "duration": 12,
        "start_time": "2024-02-18T21:41:39.984Z"
      },
      {
        "duration": 5,
        "start_time": "2024-02-18T21:41:39.998Z"
      },
      {
        "duration": 12,
        "start_time": "2024-02-18T21:41:40.005Z"
      },
      {
        "duration": 19,
        "start_time": "2024-02-18T21:41:40.019Z"
      },
      {
        "duration": 10,
        "start_time": "2024-02-18T21:41:40.039Z"
      },
      {
        "duration": 20,
        "start_time": "2024-02-18T21:41:40.051Z"
      },
      {
        "duration": 10,
        "start_time": "2024-02-18T21:41:40.073Z"
      },
      {
        "duration": 8,
        "start_time": "2024-02-18T21:41:40.085Z"
      },
      {
        "duration": 49907,
        "start_time": "2024-02-18T21:41:40.095Z"
      },
      {
        "duration": 311,
        "start_time": "2024-02-18T21:42:30.004Z"
      },
      {
        "duration": 38656,
        "start_time": "2024-02-18T21:42:30.317Z"
      },
      {
        "duration": 236,
        "start_time": "2024-02-18T21:43:08.975Z"
      },
      {
        "duration": 139096,
        "start_time": "2024-02-18T21:43:09.213Z"
      },
      {
        "duration": 297,
        "start_time": "2024-02-18T21:45:28.315Z"
      },
      {
        "duration": 39732,
        "start_time": "2024-02-18T21:45:28.613Z"
      },
      {
        "duration": 242,
        "start_time": "2024-02-18T21:46:08.347Z"
      },
      {
        "duration": 598,
        "start_time": "2024-02-18T21:46:08.597Z"
      },
      {
        "duration": 15470,
        "start_time": "2024-02-18T22:13:08.606Z"
      },
      {
        "duration": 6,
        "start_time": "2024-02-18T22:13:24.079Z"
      },
      {
        "duration": 44,
        "start_time": "2024-02-18T22:13:24.087Z"
      },
      {
        "duration": 17,
        "start_time": "2024-02-18T22:13:24.133Z"
      },
      {
        "duration": 16,
        "start_time": "2024-02-18T22:13:24.153Z"
      },
      {
        "duration": 32,
        "start_time": "2024-02-18T22:13:24.170Z"
      },
      {
        "duration": 27,
        "start_time": "2024-02-18T22:13:24.204Z"
      },
      {
        "duration": 23,
        "start_time": "2024-02-18T22:13:24.232Z"
      },
      {
        "duration": 37,
        "start_time": "2024-02-18T22:13:24.256Z"
      },
      {
        "duration": 7,
        "start_time": "2024-02-18T22:13:24.294Z"
      },
      {
        "duration": 26,
        "start_time": "2024-02-18T22:13:24.303Z"
      },
      {
        "duration": 20,
        "start_time": "2024-02-18T22:13:24.331Z"
      },
      {
        "duration": 36,
        "start_time": "2024-02-18T22:13:24.353Z"
      },
      {
        "duration": 9,
        "start_time": "2024-02-18T22:13:24.394Z"
      },
      {
        "duration": 23,
        "start_time": "2024-02-18T22:13:24.404Z"
      },
      {
        "duration": 13,
        "start_time": "2024-02-18T22:13:24.428Z"
      },
      {
        "duration": 13,
        "start_time": "2024-02-18T22:13:24.443Z"
      },
      {
        "duration": 179,
        "start_time": "2024-02-18T22:13:24.458Z"
      },
      {
        "duration": 166,
        "start_time": "2024-02-18T22:13:24.639Z"
      },
      {
        "duration": 167,
        "start_time": "2024-02-18T22:13:24.806Z"
      },
      {
        "duration": 188,
        "start_time": "2024-02-18T22:13:24.974Z"
      },
      {
        "duration": 170,
        "start_time": "2024-02-18T22:13:25.164Z"
      },
      {
        "duration": 22,
        "start_time": "2024-02-18T22:13:25.336Z"
      },
      {
        "duration": 31,
        "start_time": "2024-02-18T22:13:25.360Z"
      },
      {
        "duration": 16,
        "start_time": "2024-02-18T22:13:25.393Z"
      },
      {
        "duration": 40,
        "start_time": "2024-02-18T22:13:25.411Z"
      },
      {
        "duration": 20,
        "start_time": "2024-02-18T22:13:25.453Z"
      },
      {
        "duration": 29,
        "start_time": "2024-02-18T22:13:25.474Z"
      },
      {
        "duration": 14,
        "start_time": "2024-02-18T22:13:25.505Z"
      },
      {
        "duration": 17,
        "start_time": "2024-02-18T22:13:25.521Z"
      },
      {
        "duration": 24,
        "start_time": "2024-02-18T22:13:25.540Z"
      },
      {
        "duration": 29,
        "start_time": "2024-02-18T22:13:25.565Z"
      },
      {
        "duration": 29,
        "start_time": "2024-02-18T22:13:25.597Z"
      },
      {
        "duration": 26,
        "start_time": "2024-02-18T22:13:25.628Z"
      },
      {
        "duration": 22,
        "start_time": "2024-02-18T22:13:25.656Z"
      },
      {
        "duration": 56201,
        "start_time": "2024-02-18T22:13:25.680Z"
      },
      {
        "duration": 261,
        "start_time": "2024-02-18T22:14:21.883Z"
      },
      {
        "duration": 38146,
        "start_time": "2024-02-18T22:14:22.145Z"
      },
      {
        "duration": 247,
        "start_time": "2024-02-18T22:15:00.293Z"
      },
      {
        "duration": 133446,
        "start_time": "2024-02-18T22:15:00.542Z"
      },
      {
        "duration": 234,
        "start_time": "2024-02-18T22:17:14.000Z"
      },
      {
        "duration": 38652,
        "start_time": "2024-02-18T22:17:14.236Z"
      },
      {
        "duration": 227,
        "start_time": "2024-02-18T22:17:52.893Z"
      },
      {
        "duration": 605,
        "start_time": "2024-02-18T22:17:53.122Z"
      },
      {
        "duration": 15405,
        "start_time": "2024-02-18T22:20:17.102Z"
      },
      {
        "duration": 4,
        "start_time": "2024-02-18T22:20:32.510Z"
      },
      {
        "duration": 40,
        "start_time": "2024-02-18T22:20:32.516Z"
      },
      {
        "duration": 40,
        "start_time": "2024-02-18T22:20:32.559Z"
      },
      {
        "duration": 15,
        "start_time": "2024-02-18T22:20:32.601Z"
      },
      {
        "duration": 33,
        "start_time": "2024-02-18T22:20:32.617Z"
      },
      {
        "duration": 7,
        "start_time": "2024-02-18T22:20:32.651Z"
      },
      {
        "duration": 4,
        "start_time": "2024-02-18T22:20:32.660Z"
      },
      {
        "duration": 19,
        "start_time": "2024-02-18T22:20:32.681Z"
      },
      {
        "duration": 7,
        "start_time": "2024-02-18T22:20:32.704Z"
      },
      {
        "duration": 13,
        "start_time": "2024-02-18T22:20:32.713Z"
      },
      {
        "duration": 8,
        "start_time": "2024-02-18T22:20:32.728Z"
      },
      {
        "duration": 12,
        "start_time": "2024-02-18T22:20:32.738Z"
      },
      {
        "duration": 27,
        "start_time": "2024-02-18T22:20:32.755Z"
      },
      {
        "duration": 6,
        "start_time": "2024-02-18T22:20:32.785Z"
      },
      {
        "duration": 35,
        "start_time": "2024-02-18T22:20:32.794Z"
      },
      {
        "duration": 12,
        "start_time": "2024-02-18T22:20:32.830Z"
      },
      {
        "duration": 173,
        "start_time": "2024-02-18T22:20:32.844Z"
      },
      {
        "duration": 176,
        "start_time": "2024-02-18T22:20:33.020Z"
      },
      {
        "duration": 143,
        "start_time": "2024-02-18T22:20:33.198Z"
      },
      {
        "duration": 179,
        "start_time": "2024-02-18T22:20:33.343Z"
      },
      {
        "duration": 180,
        "start_time": "2024-02-18T22:20:33.523Z"
      },
      {
        "duration": 22,
        "start_time": "2024-02-18T22:20:33.705Z"
      },
      {
        "duration": 8,
        "start_time": "2024-02-18T22:20:33.729Z"
      },
      {
        "duration": 13,
        "start_time": "2024-02-18T22:20:33.739Z"
      },
      {
        "duration": 13,
        "start_time": "2024-02-18T22:20:33.781Z"
      },
      {
        "duration": 5,
        "start_time": "2024-02-18T22:20:33.799Z"
      },
      {
        "duration": 10,
        "start_time": "2024-02-18T22:20:33.805Z"
      },
      {
        "duration": 4,
        "start_time": "2024-02-18T22:20:33.817Z"
      },
      {
        "duration": 10,
        "start_time": "2024-02-18T22:20:33.823Z"
      },
      {
        "duration": 6,
        "start_time": "2024-02-18T22:20:33.835Z"
      },
      {
        "duration": 6,
        "start_time": "2024-02-18T22:20:33.842Z"
      },
      {
        "duration": 34,
        "start_time": "2024-02-18T22:20:33.849Z"
      },
      {
        "duration": 16,
        "start_time": "2024-02-18T22:20:33.885Z"
      },
      {
        "duration": 10,
        "start_time": "2024-02-18T22:20:33.903Z"
      },
      {
        "duration": 56890,
        "start_time": "2024-02-18T22:20:33.915Z"
      },
      {
        "duration": 286,
        "start_time": "2024-02-18T22:21:30.807Z"
      },
      {
        "duration": 37829,
        "start_time": "2024-02-18T22:21:31.097Z"
      },
      {
        "duration": 235,
        "start_time": "2024-02-18T22:22:08.927Z"
      },
      {
        "duration": 133534,
        "start_time": "2024-02-18T22:22:09.163Z"
      },
      {
        "duration": 296,
        "start_time": "2024-02-18T22:24:22.703Z"
      },
      {
        "duration": 38968,
        "start_time": "2024-02-18T22:24:23.001Z"
      },
      {
        "duration": 270,
        "start_time": "2024-02-18T22:25:01.971Z"
      },
      {
        "duration": 597,
        "start_time": "2024-02-18T22:25:02.243Z"
      },
      {
        "duration": 13,
        "start_time": "2024-02-18T23:07:18.415Z"
      },
      {
        "duration": 9,
        "start_time": "2024-02-18T23:07:38.089Z"
      },
      {
        "duration": 18,
        "start_time": "2024-02-18T23:07:38.579Z"
      },
      {
        "duration": 133,
        "start_time": "2024-02-18T23:15:58.485Z"
      },
      {
        "duration": 112,
        "start_time": "2024-02-18T23:16:47.741Z"
      },
      {
        "duration": 15243,
        "start_time": "2024-02-18T23:34:19.667Z"
      },
      {
        "duration": 3,
        "start_time": "2024-02-18T23:34:34.912Z"
      },
      {
        "duration": 53,
        "start_time": "2024-02-18T23:34:34.916Z"
      },
      {
        "duration": 26,
        "start_time": "2024-02-18T23:34:34.972Z"
      },
      {
        "duration": 18,
        "start_time": "2024-02-18T23:34:35.000Z"
      },
      {
        "duration": 37,
        "start_time": "2024-02-18T23:34:35.020Z"
      },
      {
        "duration": 12,
        "start_time": "2024-02-18T23:34:35.058Z"
      },
      {
        "duration": 17,
        "start_time": "2024-02-18T23:34:35.071Z"
      },
      {
        "duration": 26,
        "start_time": "2024-02-18T23:34:35.096Z"
      },
      {
        "duration": 13,
        "start_time": "2024-02-18T23:34:35.126Z"
      },
      {
        "duration": 21,
        "start_time": "2024-02-18T23:34:35.141Z"
      },
      {
        "duration": 8,
        "start_time": "2024-02-18T23:34:35.164Z"
      },
      {
        "duration": 9,
        "start_time": "2024-02-18T23:34:35.173Z"
      },
      {
        "duration": 23,
        "start_time": "2024-02-18T23:34:35.183Z"
      },
      {
        "duration": 5,
        "start_time": "2024-02-18T23:34:35.207Z"
      },
      {
        "duration": 5,
        "start_time": "2024-02-18T23:34:35.214Z"
      },
      {
        "duration": 7,
        "start_time": "2024-02-18T23:34:35.221Z"
      },
      {
        "duration": 174,
        "start_time": "2024-02-18T23:34:35.230Z"
      },
      {
        "duration": 153,
        "start_time": "2024-02-18T23:34:35.405Z"
      },
      {
        "duration": 155,
        "start_time": "2024-02-18T23:34:35.560Z"
      },
      {
        "duration": 180,
        "start_time": "2024-02-18T23:34:35.716Z"
      },
      {
        "duration": 163,
        "start_time": "2024-02-18T23:34:35.898Z"
      },
      {
        "duration": 35,
        "start_time": "2024-02-18T23:34:36.062Z"
      },
      {
        "duration": 24,
        "start_time": "2024-02-18T23:34:36.099Z"
      },
      {
        "duration": 18,
        "start_time": "2024-02-18T23:34:36.125Z"
      },
      {
        "duration": 9,
        "start_time": "2024-02-18T23:34:36.145Z"
      },
      {
        "duration": 9,
        "start_time": "2024-02-18T23:34:36.155Z"
      },
      {
        "duration": 20,
        "start_time": "2024-02-18T23:34:36.167Z"
      },
      {
        "duration": 11,
        "start_time": "2024-02-18T23:34:36.189Z"
      },
      {
        "duration": 21,
        "start_time": "2024-02-18T23:34:36.201Z"
      },
      {
        "duration": 29,
        "start_time": "2024-02-18T23:34:36.223Z"
      },
      {
        "duration": 5,
        "start_time": "2024-02-18T23:34:36.253Z"
      },
      {
        "duration": 24,
        "start_time": "2024-02-18T23:34:36.259Z"
      },
      {
        "duration": 12,
        "start_time": "2024-02-18T23:34:36.285Z"
      },
      {
        "duration": 10,
        "start_time": "2024-02-18T23:34:36.298Z"
      },
      {
        "duration": 56475,
        "start_time": "2024-02-18T23:34:36.310Z"
      },
      {
        "duration": 243,
        "start_time": "2024-02-18T23:35:32.791Z"
      },
      {
        "duration": 158,
        "start_time": "2024-02-18T23:35:33.036Z"
      },
      {
        "duration": 0,
        "start_time": "2024-02-18T23:35:33.196Z"
      },
      {
        "duration": 0,
        "start_time": "2024-02-18T23:35:33.197Z"
      },
      {
        "duration": 0,
        "start_time": "2024-02-18T23:35:33.198Z"
      },
      {
        "duration": 0,
        "start_time": "2024-02-18T23:35:33.199Z"
      },
      {
        "duration": 0,
        "start_time": "2024-02-18T23:35:33.200Z"
      },
      {
        "duration": 0,
        "start_time": "2024-02-18T23:35:33.201Z"
      },
      {
        "duration": 37896,
        "start_time": "2024-02-18T23:38:55.536Z"
      },
      {
        "duration": 233,
        "start_time": "2024-02-18T23:40:14.175Z"
      },
      {
        "duration": 27,
        "start_time": "2024-02-18T23:40:29.193Z"
      },
      {
        "duration": 131556,
        "start_time": "2024-02-18T23:40:41.829Z"
      },
      {
        "duration": 250,
        "start_time": "2024-02-18T23:42:53.387Z"
      },
      {
        "duration": 38451,
        "start_time": "2024-02-18T23:42:53.639Z"
      },
      {
        "duration": 240,
        "start_time": "2024-02-18T23:43:32.094Z"
      },
      {
        "duration": 577,
        "start_time": "2024-02-18T23:43:32.336Z"
      },
      {
        "duration": 13790,
        "start_time": "2024-02-20T07:26:13.888Z"
      },
      {
        "duration": 3,
        "start_time": "2024-02-20T07:26:27.680Z"
      },
      {
        "duration": 96,
        "start_time": "2024-02-20T07:26:27.684Z"
      },
      {
        "duration": 17,
        "start_time": "2024-02-20T07:26:27.782Z"
      },
      {
        "duration": 12,
        "start_time": "2024-02-20T07:26:27.801Z"
      },
      {
        "duration": 14,
        "start_time": "2024-02-20T07:26:27.815Z"
      },
      {
        "duration": 21,
        "start_time": "2024-02-20T07:26:27.831Z"
      },
      {
        "duration": 32,
        "start_time": "2024-02-20T07:26:27.854Z"
      },
      {
        "duration": 10,
        "start_time": "2024-02-20T07:26:27.888Z"
      },
      {
        "duration": 7,
        "start_time": "2024-02-20T07:26:27.902Z"
      },
      {
        "duration": 9,
        "start_time": "2024-02-20T07:26:27.910Z"
      },
      {
        "duration": 4,
        "start_time": "2024-02-20T07:26:27.921Z"
      },
      {
        "duration": 7,
        "start_time": "2024-02-20T07:26:27.926Z"
      },
      {
        "duration": 5,
        "start_time": "2024-02-20T07:26:27.935Z"
      },
      {
        "duration": 8,
        "start_time": "2024-02-20T07:26:27.941Z"
      },
      {
        "duration": 13,
        "start_time": "2024-02-20T07:26:27.950Z"
      },
      {
        "duration": 173,
        "start_time": "2024-02-20T07:26:27.965Z"
      },
      {
        "duration": 160,
        "start_time": "2024-02-20T07:26:28.140Z"
      },
      {
        "duration": 153,
        "start_time": "2024-02-20T07:26:28.303Z"
      },
      {
        "duration": 172,
        "start_time": "2024-02-20T07:26:28.458Z"
      },
      {
        "duration": 157,
        "start_time": "2024-02-20T07:26:28.632Z"
      },
      {
        "duration": 23,
        "start_time": "2024-02-20T07:26:28.790Z"
      },
      {
        "duration": 7,
        "start_time": "2024-02-20T07:26:28.815Z"
      },
      {
        "duration": 19,
        "start_time": "2024-02-20T07:26:28.824Z"
      },
      {
        "duration": 5,
        "start_time": "2024-02-20T07:26:28.859Z"
      },
      {
        "duration": 13,
        "start_time": "2024-02-20T07:26:28.865Z"
      },
      {
        "duration": 11,
        "start_time": "2024-02-20T07:26:28.880Z"
      },
      {
        "duration": 4,
        "start_time": "2024-02-20T07:26:28.895Z"
      },
      {
        "duration": 11,
        "start_time": "2024-02-20T07:26:28.900Z"
      },
      {
        "duration": 9,
        "start_time": "2024-02-20T07:26:28.913Z"
      },
      {
        "duration": 4,
        "start_time": "2024-02-20T07:26:28.924Z"
      },
      {
        "duration": 6,
        "start_time": "2024-02-20T07:26:28.930Z"
      },
      {
        "duration": 27,
        "start_time": "2024-02-20T07:26:28.937Z"
      },
      {
        "duration": 34,
        "start_time": "2024-02-20T07:26:28.966Z"
      },
      {
        "duration": 40661,
        "start_time": "2024-02-20T07:26:29.003Z"
      },
      {
        "duration": 260,
        "start_time": "2024-02-20T07:27:09.666Z"
      },
      {
        "duration": 35499,
        "start_time": "2024-02-20T07:27:09.927Z"
      },
      {
        "duration": 210,
        "start_time": "2024-02-20T07:27:45.428Z"
      },
      {
        "duration": 85422,
        "start_time": "2024-02-20T07:27:45.640Z"
      },
      {
        "duration": 268,
        "start_time": "2024-02-20T07:29:11.064Z"
      },
      {
        "duration": 36181,
        "start_time": "2024-02-20T07:29:11.334Z"
      },
      {
        "duration": 255,
        "start_time": "2024-02-20T07:29:47.517Z"
      },
      {
        "duration": 542,
        "start_time": "2024-02-20T07:29:47.773Z"
      },
      {
        "duration": 3,
        "start_time": "2024-02-20T07:35:10.456Z"
      },
      {
        "duration": 3,
        "start_time": "2024-02-20T07:35:11.015Z"
      },
      {
        "duration": 4,
        "start_time": "2024-02-20T07:35:11.095Z"
      },
      {
        "duration": 5,
        "start_time": "2024-02-20T07:35:11.157Z"
      },
      {
        "duration": 7,
        "start_time": "2024-02-20T07:35:11.282Z"
      },
      {
        "duration": 5,
        "start_time": "2024-02-20T07:35:11.379Z"
      },
      {
        "duration": 1207,
        "start_time": "2024-02-20T07:35:11.455Z"
      },
      {
        "duration": 209,
        "start_time": "2024-02-20T07:35:12.664Z"
      },
      {
        "duration": 6659,
        "start_time": "2024-02-20T07:35:12.874Z"
      },
      {
        "duration": 208,
        "start_time": "2024-02-20T07:35:19.535Z"
      },
      {
        "duration": 16632,
        "start_time": "2024-02-20T07:35:19.745Z"
      },
      {
        "duration": 273,
        "start_time": "2024-02-20T07:35:36.379Z"
      },
      {
        "duration": 7180,
        "start_time": "2024-02-20T07:35:36.653Z"
      },
      {
        "duration": 211,
        "start_time": "2024-02-20T07:35:43.835Z"
      },
      {
        "duration": 423,
        "start_time": "2024-02-20T07:35:44.049Z"
      },
      {
        "duration": 14258,
        "start_time": "2024-02-20T07:35:46.917Z"
      },
      {
        "duration": 3,
        "start_time": "2024-02-20T07:36:01.177Z"
      },
      {
        "duration": 99,
        "start_time": "2024-02-20T07:36:01.182Z"
      },
      {
        "duration": 148,
        "start_time": "2024-02-20T07:36:01.283Z"
      },
      {
        "duration": 45,
        "start_time": "2024-02-20T07:36:01.433Z"
      },
      {
        "duration": 16,
        "start_time": "2024-02-20T07:36:01.480Z"
      },
      {
        "duration": 28,
        "start_time": "2024-02-20T07:36:01.497Z"
      },
      {
        "duration": 53,
        "start_time": "2024-02-20T07:36:01.527Z"
      },
      {
        "duration": 16,
        "start_time": "2024-02-20T07:36:01.582Z"
      },
      {
        "duration": 40,
        "start_time": "2024-02-20T07:36:01.600Z"
      },
      {
        "duration": 37,
        "start_time": "2024-02-20T07:36:01.642Z"
      },
      {
        "duration": 40,
        "start_time": "2024-02-20T07:36:01.681Z"
      },
      {
        "duration": 38,
        "start_time": "2024-02-20T07:36:01.722Z"
      },
      {
        "duration": 47,
        "start_time": "2024-02-20T07:36:01.762Z"
      },
      {
        "duration": 70,
        "start_time": "2024-02-20T07:36:01.811Z"
      },
      {
        "duration": 32,
        "start_time": "2024-02-20T07:36:01.882Z"
      },
      {
        "duration": 162,
        "start_time": "2024-02-20T07:36:01.916Z"
      },
      {
        "duration": 167,
        "start_time": "2024-02-20T07:36:02.079Z"
      },
      {
        "duration": 158,
        "start_time": "2024-02-20T07:36:02.247Z"
      },
      {
        "duration": 167,
        "start_time": "2024-02-20T07:36:02.406Z"
      },
      {
        "duration": 153,
        "start_time": "2024-02-20T07:36:02.575Z"
      },
      {
        "duration": 30,
        "start_time": "2024-02-20T07:36:02.730Z"
      },
      {
        "duration": 37,
        "start_time": "2024-02-20T07:36:02.762Z"
      },
      {
        "duration": 89,
        "start_time": "2024-02-20T07:36:02.800Z"
      },
      {
        "duration": 61,
        "start_time": "2024-02-20T07:36:02.891Z"
      },
      {
        "duration": 110,
        "start_time": "2024-02-20T07:36:02.953Z"
      },
      {
        "duration": 95,
        "start_time": "2024-02-20T07:36:03.064Z"
      },
      {
        "duration": 79,
        "start_time": "2024-02-20T07:36:03.162Z"
      },
      {
        "duration": 97,
        "start_time": "2024-02-20T07:36:03.243Z"
      },
      {
        "duration": 120,
        "start_time": "2024-02-20T07:36:03.341Z"
      },
      {
        "duration": 40,
        "start_time": "2024-02-20T07:36:03.463Z"
      },
      {
        "duration": 114,
        "start_time": "2024-02-20T07:36:03.505Z"
      },
      {
        "duration": 42,
        "start_time": "2024-02-20T07:36:03.621Z"
      },
      {
        "duration": 46,
        "start_time": "2024-02-20T07:36:03.664Z"
      },
      {
        "duration": 40853,
        "start_time": "2024-02-20T07:36:03.712Z"
      },
      {
        "duration": 242,
        "start_time": "2024-02-20T07:36:44.567Z"
      },
      {
        "duration": 35310,
        "start_time": "2024-02-20T07:36:44.811Z"
      },
      {
        "duration": 214,
        "start_time": "2024-02-20T07:37:20.123Z"
      },
      {
        "duration": 86540,
        "start_time": "2024-02-20T07:37:20.339Z"
      },
      {
        "duration": 291,
        "start_time": "2024-02-20T07:38:46.880Z"
      },
      {
        "duration": 35681,
        "start_time": "2024-02-20T07:38:47.173Z"
      },
      {
        "duration": 213,
        "start_time": "2024-02-20T07:39:22.857Z"
      },
      {
        "duration": 532,
        "start_time": "2024-02-20T07:39:23.071Z"
      },
      {
        "duration": 4164,
        "start_time": "2024-02-20T07:48:16.503Z"
      },
      {
        "duration": 9221,
        "start_time": "2024-02-20T07:48:27.755Z"
      },
      {
        "duration": 11698,
        "start_time": "2024-02-20T07:49:01.821Z"
      },
      {
        "duration": 11810,
        "start_time": "2024-02-20T07:49:17.138Z"
      },
      {
        "duration": 7916,
        "start_time": "2024-02-20T07:50:16.845Z"
      },
      {
        "duration": 3,
        "start_time": "2024-02-20T07:50:24.763Z"
      },
      {
        "duration": 87,
        "start_time": "2024-02-20T07:50:24.768Z"
      },
      {
        "duration": 16,
        "start_time": "2024-02-20T07:50:24.857Z"
      },
      {
        "duration": 14,
        "start_time": "2024-02-20T07:50:24.875Z"
      },
      {
        "duration": 9,
        "start_time": "2024-02-20T07:50:24.891Z"
      },
      {
        "duration": 4,
        "start_time": "2024-02-20T07:50:24.901Z"
      },
      {
        "duration": 10,
        "start_time": "2024-02-20T07:50:24.907Z"
      },
      {
        "duration": 9,
        "start_time": "2024-02-20T07:50:24.919Z"
      },
      {
        "duration": 5,
        "start_time": "2024-02-20T07:50:24.931Z"
      },
      {
        "duration": 35,
        "start_time": "2024-02-20T07:50:24.938Z"
      },
      {
        "duration": 4,
        "start_time": "2024-02-20T07:50:24.975Z"
      },
      {
        "duration": 13,
        "start_time": "2024-02-20T07:50:24.981Z"
      },
      {
        "duration": 16,
        "start_time": "2024-02-20T07:50:24.996Z"
      },
      {
        "duration": 16,
        "start_time": "2024-02-20T07:50:25.014Z"
      },
      {
        "duration": 18,
        "start_time": "2024-02-20T07:50:25.031Z"
      },
      {
        "duration": 153,
        "start_time": "2024-02-20T07:50:25.050Z"
      },
      {
        "duration": 150,
        "start_time": "2024-02-20T07:50:25.205Z"
      },
      {
        "duration": 148,
        "start_time": "2024-02-20T07:50:25.357Z"
      },
      {
        "duration": 168,
        "start_time": "2024-02-20T07:50:25.507Z"
      },
      {
        "duration": 173,
        "start_time": "2024-02-20T07:50:25.676Z"
      },
      {
        "duration": 33,
        "start_time": "2024-02-20T07:50:25.850Z"
      },
      {
        "duration": 7,
        "start_time": "2024-02-20T07:50:25.884Z"
      },
      {
        "duration": 20,
        "start_time": "2024-02-20T07:50:25.893Z"
      },
      {
        "duration": 4,
        "start_time": "2024-02-20T07:50:25.914Z"
      },
      {
        "duration": 5,
        "start_time": "2024-02-20T07:50:25.920Z"
      },
      {
        "duration": 10,
        "start_time": "2024-02-20T07:50:25.926Z"
      },
      {
        "duration": 4,
        "start_time": "2024-02-20T07:50:25.939Z"
      },
      {
        "duration": 8,
        "start_time": "2024-02-20T07:50:25.944Z"
      },
      {
        "duration": 23,
        "start_time": "2024-02-20T07:50:25.953Z"
      },
      {
        "duration": 4,
        "start_time": "2024-02-20T07:50:25.978Z"
      },
      {
        "duration": 32,
        "start_time": "2024-02-20T07:50:25.984Z"
      },
      {
        "duration": 14,
        "start_time": "2024-02-20T07:50:26.017Z"
      },
      {
        "duration": 5,
        "start_time": "2024-02-20T07:50:26.033Z"
      },
      {
        "duration": 40846,
        "start_time": "2024-02-20T07:50:26.039Z"
      },
      {
        "duration": 310,
        "start_time": "2024-02-20T07:51:06.887Z"
      },
      {
        "duration": 36746,
        "start_time": "2024-02-20T07:51:07.199Z"
      },
      {
        "duration": 239,
        "start_time": "2024-02-20T07:51:43.946Z"
      },
      {
        "duration": 86999,
        "start_time": "2024-02-20T07:51:44.187Z"
      },
      {
        "duration": 268,
        "start_time": "2024-02-20T07:53:11.188Z"
      },
      {
        "duration": 36364,
        "start_time": "2024-02-20T07:53:11.458Z"
      },
      {
        "duration": 217,
        "start_time": "2024-02-20T07:53:47.824Z"
      },
      {
        "duration": 552,
        "start_time": "2024-02-20T07:53:48.043Z"
      },
      {
        "duration": 10,
        "start_time": "2024-02-20T08:32:34.106Z"
      },
      {
        "duration": 4437,
        "start_time": "2024-02-20T08:32:42.374Z"
      },
      {
        "duration": 3,
        "start_time": "2024-02-20T08:32:46.813Z"
      },
      {
        "duration": 38,
        "start_time": "2024-02-20T08:32:46.817Z"
      },
      {
        "duration": 17,
        "start_time": "2024-02-20T08:32:46.857Z"
      },
      {
        "duration": 13,
        "start_time": "2024-02-20T08:32:46.876Z"
      },
      {
        "duration": 6,
        "start_time": "2024-02-20T08:32:46.891Z"
      },
      {
        "duration": 4,
        "start_time": "2024-02-20T08:32:46.899Z"
      },
      {
        "duration": 13,
        "start_time": "2024-02-20T08:32:46.905Z"
      },
      {
        "duration": 12,
        "start_time": "2024-02-20T08:32:46.920Z"
      },
      {
        "duration": 12,
        "start_time": "2024-02-20T08:32:46.935Z"
      },
      {
        "duration": 26,
        "start_time": "2024-02-20T08:32:46.948Z"
      },
      {
        "duration": 5,
        "start_time": "2024-02-20T08:32:46.976Z"
      },
      {
        "duration": 34,
        "start_time": "2024-02-20T08:32:46.982Z"
      },
      {
        "duration": 25,
        "start_time": "2024-02-20T08:32:47.017Z"
      },
      {
        "duration": 5,
        "start_time": "2024-02-20T08:32:47.045Z"
      },
      {
        "duration": 21,
        "start_time": "2024-02-20T08:32:47.052Z"
      },
      {
        "duration": 165,
        "start_time": "2024-02-20T08:32:47.075Z"
      },
      {
        "duration": 153,
        "start_time": "2024-02-20T08:32:47.242Z"
      },
      {
        "duration": 147,
        "start_time": "2024-02-20T08:32:47.397Z"
      },
      {
        "duration": 185,
        "start_time": "2024-02-20T08:32:47.546Z"
      },
      {
        "duration": 157,
        "start_time": "2024-02-20T08:32:47.733Z"
      },
      {
        "duration": 24,
        "start_time": "2024-02-20T08:32:47.892Z"
      },
      {
        "duration": 8,
        "start_time": "2024-02-20T08:32:47.917Z"
      },
      {
        "duration": 29,
        "start_time": "2024-02-20T08:32:47.926Z"
      },
      {
        "duration": 5,
        "start_time": "2024-02-20T08:32:47.957Z"
      },
      {
        "duration": 14,
        "start_time": "2024-02-20T08:32:47.964Z"
      },
      {
        "duration": 8,
        "start_time": "2024-02-20T08:32:47.979Z"
      },
      {
        "duration": 7,
        "start_time": "2024-02-20T08:32:47.990Z"
      },
      {
        "duration": 12,
        "start_time": "2024-02-20T08:32:47.998Z"
      },
      {
        "duration": 6,
        "start_time": "2024-02-20T08:32:48.011Z"
      },
      {
        "duration": 10,
        "start_time": "2024-02-20T08:32:48.019Z"
      },
      {
        "duration": 10,
        "start_time": "2024-02-20T08:32:48.030Z"
      },
      {
        "duration": 12,
        "start_time": "2024-02-20T08:32:48.041Z"
      },
      {
        "duration": 29,
        "start_time": "2024-02-20T08:32:48.054Z"
      },
      {
        "duration": 40994,
        "start_time": "2024-02-20T08:32:48.085Z"
      },
      {
        "duration": 248,
        "start_time": "2024-02-20T08:33:29.081Z"
      },
      {
        "duration": 35650,
        "start_time": "2024-02-20T08:33:29.331Z"
      },
      {
        "duration": 220,
        "start_time": "2024-02-20T08:34:04.983Z"
      },
      {
        "duration": 87278,
        "start_time": "2024-02-20T08:34:05.205Z"
      },
      {
        "duration": 261,
        "start_time": "2024-02-20T08:35:32.484Z"
      },
      {
        "duration": 4477,
        "start_time": "2024-02-20T08:36:01.061Z"
      },
      {
        "duration": 3,
        "start_time": "2024-02-20T08:36:05.540Z"
      },
      {
        "duration": 31,
        "start_time": "2024-02-20T08:36:05.544Z"
      },
      {
        "duration": 16,
        "start_time": "2024-02-20T08:36:05.577Z"
      },
      {
        "duration": 14,
        "start_time": "2024-02-20T08:36:05.594Z"
      },
      {
        "duration": 9,
        "start_time": "2024-02-20T08:36:05.609Z"
      },
      {
        "duration": 4,
        "start_time": "2024-02-20T08:36:05.619Z"
      },
      {
        "duration": 26,
        "start_time": "2024-02-20T08:36:05.624Z"
      },
      {
        "duration": 6,
        "start_time": "2024-02-20T08:36:05.652Z"
      },
      {
        "duration": 7,
        "start_time": "2024-02-20T08:36:05.661Z"
      },
      {
        "duration": 11,
        "start_time": "2024-02-20T08:36:05.669Z"
      },
      {
        "duration": 21,
        "start_time": "2024-02-20T08:36:05.681Z"
      },
      {
        "duration": 23,
        "start_time": "2024-02-20T08:36:05.704Z"
      },
      {
        "duration": 8,
        "start_time": "2024-02-20T08:36:05.729Z"
      },
      {
        "duration": 6,
        "start_time": "2024-02-20T08:36:05.738Z"
      },
      {
        "duration": 23,
        "start_time": "2024-02-20T08:36:05.745Z"
      },
      {
        "duration": 161,
        "start_time": "2024-02-20T08:36:05.769Z"
      },
      {
        "duration": 153,
        "start_time": "2024-02-20T08:36:05.932Z"
      },
      {
        "duration": 152,
        "start_time": "2024-02-20T08:36:06.087Z"
      },
      {
        "duration": 161,
        "start_time": "2024-02-20T08:36:06.241Z"
      },
      {
        "duration": 159,
        "start_time": "2024-02-20T08:36:06.403Z"
      },
      {
        "duration": 25,
        "start_time": "2024-02-20T08:36:06.564Z"
      },
      {
        "duration": 13,
        "start_time": "2024-02-20T08:36:06.591Z"
      },
      {
        "duration": 22,
        "start_time": "2024-02-20T08:36:06.606Z"
      },
      {
        "duration": 4,
        "start_time": "2024-02-20T08:36:06.629Z"
      },
      {
        "duration": 5,
        "start_time": "2024-02-20T08:36:06.635Z"
      },
      {
        "duration": 17,
        "start_time": "2024-02-20T08:36:06.641Z"
      },
      {
        "duration": 3,
        "start_time": "2024-02-20T08:36:06.662Z"
      },
      {
        "duration": 6,
        "start_time": "2024-02-20T08:36:06.667Z"
      },
      {
        "duration": 4,
        "start_time": "2024-02-20T08:36:06.675Z"
      },
      {
        "duration": 14,
        "start_time": "2024-02-20T08:36:06.680Z"
      },
      {
        "duration": 13,
        "start_time": "2024-02-20T08:36:06.695Z"
      },
      {
        "duration": 13,
        "start_time": "2024-02-20T08:36:06.710Z"
      },
      {
        "duration": 20,
        "start_time": "2024-02-20T08:36:06.725Z"
      },
      {
        "duration": 41853,
        "start_time": "2024-02-20T08:36:06.747Z"
      },
      {
        "duration": 225,
        "start_time": "2024-02-20T08:36:48.673Z"
      },
      {
        "duration": 35573,
        "start_time": "2024-02-20T08:36:48.900Z"
      },
      {
        "duration": 225,
        "start_time": "2024-02-20T08:37:24.475Z"
      },
      {
        "duration": 86479,
        "start_time": "2024-02-20T08:37:24.701Z"
      },
      {
        "duration": 263,
        "start_time": "2024-02-20T08:38:51.181Z"
      },
      {
        "duration": 36408,
        "start_time": "2024-02-20T08:38:51.445Z"
      },
      {
        "duration": 213,
        "start_time": "2024-02-20T08:39:27.855Z"
      },
      {
        "duration": 525,
        "start_time": "2024-02-20T08:39:28.073Z"
      },
      {
        "duration": 4436,
        "start_time": "2024-02-20T08:48:00.140Z"
      },
      {
        "duration": 3,
        "start_time": "2024-02-20T08:48:04.578Z"
      },
      {
        "duration": 34,
        "start_time": "2024-02-20T08:48:04.582Z"
      },
      {
        "duration": 16,
        "start_time": "2024-02-20T08:48:04.618Z"
      },
      {
        "duration": 11,
        "start_time": "2024-02-20T08:48:04.636Z"
      },
      {
        "duration": 20,
        "start_time": "2024-02-20T08:48:04.648Z"
      },
      {
        "duration": 9,
        "start_time": "2024-02-20T08:48:04.670Z"
      },
      {
        "duration": 26,
        "start_time": "2024-02-20T08:48:04.680Z"
      },
      {
        "duration": 6,
        "start_time": "2024-02-20T08:48:04.707Z"
      },
      {
        "duration": 16,
        "start_time": "2024-02-20T08:48:04.714Z"
      },
      {
        "duration": 18,
        "start_time": "2024-02-20T08:48:04.731Z"
      },
      {
        "duration": 15,
        "start_time": "2024-02-20T08:48:04.751Z"
      },
      {
        "duration": 12,
        "start_time": "2024-02-20T08:48:04.767Z"
      },
      {
        "duration": 4,
        "start_time": "2024-02-20T08:48:04.782Z"
      },
      {
        "duration": 8,
        "start_time": "2024-02-20T08:48:04.787Z"
      },
      {
        "duration": 10,
        "start_time": "2024-02-20T08:48:04.796Z"
      },
      {
        "duration": 149,
        "start_time": "2024-02-20T08:48:04.807Z"
      },
      {
        "duration": 149,
        "start_time": "2024-02-20T08:48:04.957Z"
      },
      {
        "duration": 144,
        "start_time": "2024-02-20T08:48:05.108Z"
      },
      {
        "duration": 170,
        "start_time": "2024-02-20T08:48:05.254Z"
      },
      {
        "duration": 161,
        "start_time": "2024-02-20T08:48:05.425Z"
      },
      {
        "duration": 24,
        "start_time": "2024-02-20T08:48:05.588Z"
      },
      {
        "duration": 14,
        "start_time": "2024-02-20T08:48:05.614Z"
      },
      {
        "duration": 16,
        "start_time": "2024-02-20T08:48:05.630Z"
      },
      {
        "duration": 25,
        "start_time": "2024-02-20T08:48:05.648Z"
      },
      {
        "duration": 6,
        "start_time": "2024-02-20T08:48:05.675Z"
      },
      {
        "duration": 12,
        "start_time": "2024-02-20T08:48:05.683Z"
      },
      {
        "duration": 9,
        "start_time": "2024-02-20T08:48:05.697Z"
      },
      {
        "duration": 27,
        "start_time": "2024-02-20T08:48:05.708Z"
      },
      {
        "duration": 7,
        "start_time": "2024-02-20T08:48:05.737Z"
      },
      {
        "duration": 5,
        "start_time": "2024-02-20T08:48:05.746Z"
      },
      {
        "duration": 13,
        "start_time": "2024-02-20T08:48:05.752Z"
      },
      {
        "duration": 8,
        "start_time": "2024-02-20T08:48:05.766Z"
      },
      {
        "duration": 15,
        "start_time": "2024-02-20T08:48:05.776Z"
      },
      {
        "duration": 41591,
        "start_time": "2024-02-20T08:48:05.793Z"
      },
      {
        "duration": 266,
        "start_time": "2024-02-20T08:48:47.386Z"
      },
      {
        "duration": 35465,
        "start_time": "2024-02-20T08:48:47.654Z"
      },
      {
        "duration": 223,
        "start_time": "2024-02-20T08:49:23.120Z"
      },
      {
        "duration": 86152,
        "start_time": "2024-02-20T08:49:23.345Z"
      },
      {
        "duration": 302,
        "start_time": "2024-02-20T08:50:49.498Z"
      },
      {
        "duration": 36086,
        "start_time": "2024-02-20T08:50:49.803Z"
      },
      {
        "duration": 232,
        "start_time": "2024-02-20T08:51:25.891Z"
      },
      {
        "duration": 538,
        "start_time": "2024-02-20T08:51:26.125Z"
      },
      {
        "duration": 4408,
        "start_time": "2024-02-20T08:55:42.455Z"
      },
      {
        "duration": 3,
        "start_time": "2024-02-20T08:55:46.865Z"
      },
      {
        "duration": 32,
        "start_time": "2024-02-20T08:55:46.869Z"
      },
      {
        "duration": 15,
        "start_time": "2024-02-20T08:55:46.903Z"
      },
      {
        "duration": 14,
        "start_time": "2024-02-20T08:55:46.919Z"
      },
      {
        "duration": 29,
        "start_time": "2024-02-20T08:55:46.934Z"
      },
      {
        "duration": 10,
        "start_time": "2024-02-20T08:55:46.965Z"
      },
      {
        "duration": 27,
        "start_time": "2024-02-20T08:55:46.977Z"
      },
      {
        "duration": 5,
        "start_time": "2024-02-20T08:55:47.006Z"
      },
      {
        "duration": 14,
        "start_time": "2024-02-20T08:55:47.013Z"
      },
      {
        "duration": 13,
        "start_time": "2024-02-20T08:55:47.029Z"
      },
      {
        "duration": 26,
        "start_time": "2024-02-20T08:55:47.044Z"
      },
      {
        "duration": 11,
        "start_time": "2024-02-20T08:55:47.073Z"
      },
      {
        "duration": 7,
        "start_time": "2024-02-20T08:55:47.086Z"
      },
      {
        "duration": 7,
        "start_time": "2024-02-20T08:55:47.094Z"
      },
      {
        "duration": 7,
        "start_time": "2024-02-20T08:55:47.103Z"
      },
      {
        "duration": 159,
        "start_time": "2024-02-20T08:55:47.111Z"
      },
      {
        "duration": 142,
        "start_time": "2024-02-20T08:55:47.272Z"
      },
      {
        "duration": 158,
        "start_time": "2024-02-20T08:55:47.415Z"
      },
      {
        "duration": 173,
        "start_time": "2024-02-20T08:55:47.574Z"
      },
      {
        "duration": 172,
        "start_time": "2024-02-20T08:55:47.748Z"
      },
      {
        "duration": 22,
        "start_time": "2024-02-20T08:55:47.921Z"
      },
      {
        "duration": 6,
        "start_time": "2024-02-20T08:55:47.945Z"
      },
      {
        "duration": 25,
        "start_time": "2024-02-20T08:55:47.953Z"
      },
      {
        "duration": 5,
        "start_time": "2024-02-20T08:55:47.979Z"
      },
      {
        "duration": 6,
        "start_time": "2024-02-20T08:55:47.985Z"
      },
      {
        "duration": 15,
        "start_time": "2024-02-20T08:55:47.993Z"
      },
      {
        "duration": 4,
        "start_time": "2024-02-20T08:55:48.011Z"
      },
      {
        "duration": 6,
        "start_time": "2024-02-20T08:55:48.016Z"
      },
      {
        "duration": 6,
        "start_time": "2024-02-20T08:55:48.023Z"
      },
      {
        "duration": 5,
        "start_time": "2024-02-20T08:55:48.030Z"
      },
      {
        "duration": 10,
        "start_time": "2024-02-20T08:55:48.037Z"
      },
      {
        "duration": 28,
        "start_time": "2024-02-20T08:55:48.049Z"
      },
      {
        "duration": 7,
        "start_time": "2024-02-20T08:55:48.079Z"
      },
      {
        "duration": 41787,
        "start_time": "2024-02-20T08:55:48.087Z"
      },
      {
        "duration": 230,
        "start_time": "2024-02-20T08:56:29.876Z"
      },
      {
        "duration": 35241,
        "start_time": "2024-02-20T08:56:30.108Z"
      },
      {
        "duration": 215,
        "start_time": "2024-02-20T08:57:05.350Z"
      },
      {
        "duration": 86722,
        "start_time": "2024-02-20T08:57:05.566Z"
      },
      {
        "duration": 277,
        "start_time": "2024-02-20T08:58:32.290Z"
      },
      {
        "duration": 36465,
        "start_time": "2024-02-20T08:58:32.568Z"
      },
      {
        "duration": 218,
        "start_time": "2024-02-20T08:59:09.034Z"
      },
      {
        "duration": 519,
        "start_time": "2024-02-20T08:59:09.254Z"
      },
      {
        "duration": 97,
        "start_time": "2024-02-20T09:00:15.597Z"
      },
      {
        "duration": 11,
        "start_time": "2024-05-09T16:44:14.087Z"
      },
      {
        "duration": 82,
        "start_time": "2024-05-09T16:44:18.762Z"
      },
      {
        "duration": 5726,
        "start_time": "2024-05-09T16:44:28.162Z"
      },
      {
        "duration": 2612,
        "start_time": "2024-05-09T17:06:30.705Z"
      },
      {
        "duration": 5032,
        "start_time": "2024-05-09T17:07:49.842Z"
      },
      {
        "duration": 4,
        "start_time": "2024-05-09T17:07:54.875Z"
      },
      {
        "duration": 106,
        "start_time": "2024-05-09T17:07:54.880Z"
      },
      {
        "duration": 23,
        "start_time": "2024-05-09T17:07:54.989Z"
      },
      {
        "duration": 12,
        "start_time": "2024-05-09T17:07:55.014Z"
      },
      {
        "duration": 41,
        "start_time": "2024-05-09T17:07:55.028Z"
      },
      {
        "duration": 40,
        "start_time": "2024-05-09T17:07:55.071Z"
      },
      {
        "duration": 16,
        "start_time": "2024-05-09T17:07:55.113Z"
      },
      {
        "duration": 10,
        "start_time": "2024-05-09T17:07:55.132Z"
      },
      {
        "duration": 17,
        "start_time": "2024-05-09T17:07:55.145Z"
      },
      {
        "duration": 22,
        "start_time": "2024-05-09T17:07:55.164Z"
      },
      {
        "duration": 23,
        "start_time": "2024-05-09T17:07:55.188Z"
      },
      {
        "duration": 33,
        "start_time": "2024-05-09T17:07:55.213Z"
      },
      {
        "duration": 15,
        "start_time": "2024-05-09T17:07:55.248Z"
      },
      {
        "duration": 24,
        "start_time": "2024-05-09T17:07:55.266Z"
      },
      {
        "duration": 24,
        "start_time": "2024-05-09T17:07:55.292Z"
      },
      {
        "duration": 214,
        "start_time": "2024-05-09T17:07:55.318Z"
      },
      {
        "duration": 174,
        "start_time": "2024-05-09T17:07:55.534Z"
      },
      {
        "duration": 162,
        "start_time": "2024-05-09T17:07:55.710Z"
      },
      {
        "duration": 186,
        "start_time": "2024-05-09T17:07:55.873Z"
      },
      {
        "duration": 174,
        "start_time": "2024-05-09T17:07:56.061Z"
      },
      {
        "duration": 31,
        "start_time": "2024-05-09T17:07:56.237Z"
      },
      {
        "duration": 6,
        "start_time": "2024-05-09T17:07:56.270Z"
      },
      {
        "duration": 31,
        "start_time": "2024-05-09T17:07:56.278Z"
      },
      {
        "duration": 6,
        "start_time": "2024-05-09T17:07:56.312Z"
      },
      {
        "duration": 9,
        "start_time": "2024-05-09T17:07:56.319Z"
      },
      {
        "duration": 13,
        "start_time": "2024-05-09T17:07:56.329Z"
      },
      {
        "duration": 5,
        "start_time": "2024-05-09T17:07:56.346Z"
      },
      {
        "duration": 18,
        "start_time": "2024-05-09T17:07:56.359Z"
      },
      {
        "duration": 14,
        "start_time": "2024-05-09T17:07:56.379Z"
      },
      {
        "duration": 5,
        "start_time": "2024-05-09T17:07:56.395Z"
      },
      {
        "duration": 23,
        "start_time": "2024-05-09T17:07:56.402Z"
      },
      {
        "duration": 16,
        "start_time": "2024-05-09T17:07:56.426Z"
      },
      {
        "duration": 16,
        "start_time": "2024-05-09T17:07:56.444Z"
      },
      {
        "duration": 44221,
        "start_time": "2024-05-09T17:07:56.462Z"
      },
      {
        "duration": 233,
        "start_time": "2024-05-09T17:08:40.758Z"
      },
      {
        "duration": 36418,
        "start_time": "2024-05-09T17:08:40.993Z"
      },
      {
        "duration": 239,
        "start_time": "2024-05-09T17:09:17.413Z"
      },
      {
        "duration": 96416,
        "start_time": "2024-05-09T17:09:17.658Z"
      },
      {
        "duration": 317,
        "start_time": "2024-05-09T17:10:54.076Z"
      },
      {
        "duration": 37124,
        "start_time": "2024-05-09T17:10:54.395Z"
      },
      {
        "duration": 240,
        "start_time": "2024-05-09T17:11:31.521Z"
      },
      {
        "duration": 597,
        "start_time": "2024-05-09T17:11:31.763Z"
      }
    ],
    "kernelspec": {
      "display_name": "Python 3 (ipykernel)",
      "language": "python",
      "name": "python3"
    },
    "language_info": {
      "codemirror_mode": {
        "name": "ipython",
        "version": 3
      },
      "file_extension": ".py",
      "mimetype": "text/x-python",
      "name": "python",
      "nbconvert_exporter": "python",
      "pygments_lexer": "ipython3",
      "version": "3.9.5"
    },
    "toc": {
      "base_numbering": 1,
      "nav_menu": {},
      "number_sections": false,
      "sideBar": true,
      "skip_h1_title": false,
      "title_cell": "Table of Contents",
      "title_sidebar": "Contents",
      "toc_cell": false,
      "toc_position": {},
      "toc_section_display": true,
      "toc_window_display": false
    },
    "varInspector": {
      "cols": {
        "lenName": 16,
        "lenType": 16,
        "lenVar": 40
      },
      "kernels_config": {
        "python": {
          "delete_cmd_postfix": "",
          "delete_cmd_prefix": "del ",
          "library": "var_list.py",
          "varRefreshCmd": "print(var_dic_list())"
        },
        "r": {
          "delete_cmd_postfix": ") ",
          "delete_cmd_prefix": "rm(",
          "library": "var_list.r",
          "varRefreshCmd": "cat(var_dic_list()) "
        }
      },
      "types_to_exclude": [
        "module",
        "function",
        "builtin_function_or_method",
        "instance",
        "_Feature"
      ],
      "window_display": false
    },
    "colab": {
      "provenance": [],
      "include_colab_link": true
    }
  },
  "nbformat": 4,
  "nbformat_minor": 5
}